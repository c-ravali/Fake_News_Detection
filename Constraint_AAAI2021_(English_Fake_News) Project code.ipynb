{
  "nbformat": 4,
  "nbformat_minor": 0,
  "metadata": {
    "colab": {
      "name": "Constraint@AAAI2021 (English Fake News)",
      "provenance": []
    },
    "kernelspec": {
      "name": "python3",
      "display_name": "Python 3"
    },
    "accelerator": "GPU"
  },
  "cells": [
    {
      "cell_type": "code",
      "metadata": {
        "id": "IsiomrH1QnPk",
        "colab": {
          "base_uri": "https://localhost:8080/"
        },
        "outputId": "ef43f32a-4b3a-4134-a3d7-9cca85c890d6"
      },
      "source": [
        "%%time\n",
        "import os\n",
        "from glob import glob\n",
        "import numpy as np\n",
        "import matplotlib.pyplot as plt\n",
        "%matplotlib inline\n",
        "import pandas as pd\n",
        "import seaborn as sns\n",
        "import re\n",
        "import nltk\n",
        "import json\n",
        "import tensorflow as tf\n",
        "from tensorflow import keras\n",
        "from tensorflow.keras import regularizers\n",
        "from keras import models\n",
        "from keras import layers\n",
        "from tensorflow.keras.layers import LSTM,GRU\n",
        "from tensorflow.keras.models import load_model\n",
        "from sklearn.metrics import confusion_matrix\n",
        "from sklearn.metrics import classification_report \n",
        "from sklearn.model_selection import train_test_split\n",
        "from sklearn.linear_model import LogisticRegression\n",
        "from sklearn.tree import DecisionTreeClassifier\n",
        "from sklearn.ensemble import RandomForestClassifier\n",
        "from sklearn.naive_bayes import MultinomialNB\n",
        "from sklearn.svm import SVC\n",
        "from sklearn.metrics import accuracy_score,precision_score,recall_score,f1_score,roc_auc_score\n",
        "from sklearn.metrics import average_precision_score,roc_auc_score, roc_curve, precision_recall_curve\n",
        "from sklearn.preprocessing import LabelEncoder\n",
        "from sklearn.feature_extraction.text import TfidfVectorizer\n",
        "from tensorflow.keras.preprocessing.text import Tokenizer\n",
        "np.random.seed(42)\n",
        "class color: # Text style\n",
        "   PURPLE = '\\033[95m'\n",
        "   CYAN = '\\033[96m'\n",
        "   DARKCYAN = '\\033[36m'\n",
        "   BLUE = '\\033[94m'\n",
        "   GREEN = '\\033[92m'\n",
        "   YELLOW = '\\033[93m'\n",
        "   RED = '\\033[91m'\n",
        "   BOLD = '\\033[1m'\n",
        "   UNDERLINE = '\\033[4m'\n",
        "   END = '\\033[0m'\n",
        "import nltk\n",
        "nltk.download('punkt')\n",
        "from nltk.corpus import stopwords\n",
        "\n",
        "from nltk.tokenize import word_tokenize"
      ],
      "execution_count": 20,
      "outputs": [
        {
          "output_type": "stream",
          "name": "stdout",
          "text": [
            "CPU times: user 1.95 ms, sys: 0 ns, total: 1.95 ms\n",
            "Wall time: 1.9 ms\n"
          ]
        },
        {
          "output_type": "stream",
          "name": "stderr",
          "text": [
            "[nltk_data] Downloading package punkt to /root/nltk_data...\n",
            "[nltk_data]   Package punkt is already up-to-date!\n"
          ]
        }
      ]
    },
    {
      "cell_type": "code",
      "metadata": {
        "id": "p3cICkT2OR7E",
        "colab": {
          "base_uri": "https://localhost:8080/"
        },
        "outputId": "a9c694d4-a684-4753-ada9-cb4a034ff6af"
      },
      "source": [
        "print(tf.__version__)\n",
        "print(keras.__version__)"
      ],
      "execution_count": 21,
      "outputs": [
        {
          "output_type": "stream",
          "name": "stdout",
          "text": [
            "2.11.0\n",
            "2.11.0\n"
          ]
        }
      ]
    },
    {
      "cell_type": "markdown",
      "metadata": {
        "id": "zu3Seb4f7MiG"
      },
      "source": [
        "##Data Fetching"
      ]
    },
    {
      "cell_type": "code",
      "metadata": {
        "id": "iGXpNuzWSfb9",
        "colab": {
          "base_uri": "https://localhost:8080/"
        },
        "outputId": "cf427045-5987-4063-c97c-3923bfe9816c"
      },
      "source": [
        "%%time\n",
        "train_filename = \"/content/Constraint_English_Train.xlsx\"\n",
        "val_filename = \"/content/Constraint_English_Val .xlsx\"\n",
        "\n",
        "train_data = pd.read_excel(train_filename)\n",
        "validation_data = pd.read_excel(val_filename)"
      ],
      "execution_count": 22,
      "outputs": [
        {
          "output_type": "stream",
          "name": "stdout",
          "text": [
            "CPU times: user 1.31 s, sys: 4.27 ms, total: 1.31 s\n",
            "Wall time: 1.36 s\n"
          ]
        }
      ]
    },
    {
      "cell_type": "code",
      "metadata": {
        "id": "EnujplO-ObC6",
        "colab": {
          "base_uri": "https://localhost:8080/"
        },
        "outputId": "53db6eed-db57-43be-a3f4-d9b40b8e1471"
      },
      "source": [
        "print(\"Size of the training data ==> \", train_data.shape)\n",
        "print(\"Size of the validation data ==>\", validation_data.shape)"
      ],
      "execution_count": 23,
      "outputs": [
        {
          "output_type": "stream",
          "name": "stdout",
          "text": [
            "Size of the training data ==>  (6420, 3)\n",
            "Size of the validation data ==> (2140, 3)\n"
          ]
        }
      ]
    },
    {
      "cell_type": "code",
      "metadata": {
        "id": "d6MUcHI3O8vD",
        "colab": {
          "base_uri": "https://localhost:8080/"
        },
        "outputId": "ed76f0ec-8395-471f-92a6-ce774547fdd9"
      },
      "source": [
        "## Mapping the labels real=0, fake=1\n",
        "train_data['training_label']= train_data.label.replace({'real':0,'fake':1})\n",
        "print(train_data.head(10))"
      ],
      "execution_count": 24,
      "outputs": [
        {
          "output_type": "stream",
          "name": "stdout",
          "text": [
            "     id                                              tweet label  \\\n",
            "0   1.0  The CDC currently reports 99031 deaths. In gen...  real   \n",
            "1   2.0  States reported 1121 deaths a small rise from ...  real   \n",
            "2   3.0  Politically Correct Woman (Almost) Uses Pandem...  fake   \n",
            "3   4.0  #IndiaFightsCorona: We have 1524 #COVID testin...  real   \n",
            "4   5.0  Populous states can generate large case counts...  real   \n",
            "5   6.0  Covid Act Now found \"on average each person in...  real   \n",
            "6   7.0  If you tested positive for #COVID19 and have n...  real   \n",
            "7   8.0  Obama Calls Trump’s Coronavirus Response A Cha...  fake   \n",
            "8   9.0  ???Clearly, the Obama administration did not l...  fake   \n",
            "9  10.0  Retraction—Hydroxychloroquine or chloroquine w...  fake   \n",
            "\n",
            "   training_label  \n",
            "0               0  \n",
            "1               0  \n",
            "2               1  \n",
            "3               0  \n",
            "4               0  \n",
            "5               0  \n",
            "6               0  \n",
            "7               1  \n",
            "8               1  \n",
            "9               1  \n"
          ]
        }
      ]
    },
    {
      "cell_type": "code",
      "metadata": {
        "colab": {
          "base_uri": "https://localhost:8080/",
          "height": 363
        },
        "id": "sgDLEF-gBUre",
        "outputId": "e0bffe2a-3673-44a9-a314-479dae4d8952"
      },
      "source": [
        "validation_data['validation_label']= validation_data.label.replace({'real':0,'fake':1})\n",
        "validation_data.head(10)"
      ],
      "execution_count": 25,
      "outputs": [
        {
          "output_type": "execute_result",
          "data": {
            "text/plain": [
              "     id                                              tweet label  \\\n",
              "0   1.0  Chinese converting to Islam after realising th...  fake   \n",
              "1   2.0  11 out of 13 people (from the Diamond Princess...  fake   \n",
              "2   3.0  COVID-19 Is Caused By A Bacterium, Not Virus A...  fake   \n",
              "3   4.0  Mike Pence in RNC speech praises Donald Trump’...  fake   \n",
              "4   5.0  6/10 Sky's @EdConwaySky explains the latest #C...  real   \n",
              "5   6.0  No one can leave managed isolation for any rea...  real   \n",
              "6   7.0  #IndiaFightsCorona India has one of the lowest...  real   \n",
              "7   8.0  RT @WHO: #COVID19 transmission occurs primaril...  real   \n",
              "8   9.0  News and media outlet ABP Majha on the basis o...  fake   \n",
              "9  10.0  ???Church services can???t resume until we???r...  fake   \n",
              "\n",
              "   validation_label  \n",
              "0                 1  \n",
              "1                 1  \n",
              "2                 1  \n",
              "3                 1  \n",
              "4                 0  \n",
              "5                 0  \n",
              "6                 0  \n",
              "7                 0  \n",
              "8                 1  \n",
              "9                 1  "
            ],
            "text/html": [
              "\n",
              "  <div id=\"df-f6d1be42-552a-4143-867a-baf1a903c152\">\n",
              "    <div class=\"colab-df-container\">\n",
              "      <div>\n",
              "<style scoped>\n",
              "    .dataframe tbody tr th:only-of-type {\n",
              "        vertical-align: middle;\n",
              "    }\n",
              "\n",
              "    .dataframe tbody tr th {\n",
              "        vertical-align: top;\n",
              "    }\n",
              "\n",
              "    .dataframe thead th {\n",
              "        text-align: right;\n",
              "    }\n",
              "</style>\n",
              "<table border=\"1\" class=\"dataframe\">\n",
              "  <thead>\n",
              "    <tr style=\"text-align: right;\">\n",
              "      <th></th>\n",
              "      <th>id</th>\n",
              "      <th>tweet</th>\n",
              "      <th>label</th>\n",
              "      <th>validation_label</th>\n",
              "    </tr>\n",
              "  </thead>\n",
              "  <tbody>\n",
              "    <tr>\n",
              "      <th>0</th>\n",
              "      <td>1.0</td>\n",
              "      <td>Chinese converting to Islam after realising th...</td>\n",
              "      <td>fake</td>\n",
              "      <td>1</td>\n",
              "    </tr>\n",
              "    <tr>\n",
              "      <th>1</th>\n",
              "      <td>2.0</td>\n",
              "      <td>11 out of 13 people (from the Diamond Princess...</td>\n",
              "      <td>fake</td>\n",
              "      <td>1</td>\n",
              "    </tr>\n",
              "    <tr>\n",
              "      <th>2</th>\n",
              "      <td>3.0</td>\n",
              "      <td>COVID-19 Is Caused By A Bacterium, Not Virus A...</td>\n",
              "      <td>fake</td>\n",
              "      <td>1</td>\n",
              "    </tr>\n",
              "    <tr>\n",
              "      <th>3</th>\n",
              "      <td>4.0</td>\n",
              "      <td>Mike Pence in RNC speech praises Donald Trump’...</td>\n",
              "      <td>fake</td>\n",
              "      <td>1</td>\n",
              "    </tr>\n",
              "    <tr>\n",
              "      <th>4</th>\n",
              "      <td>5.0</td>\n",
              "      <td>6/10 Sky's @EdConwaySky explains the latest #C...</td>\n",
              "      <td>real</td>\n",
              "      <td>0</td>\n",
              "    </tr>\n",
              "    <tr>\n",
              "      <th>5</th>\n",
              "      <td>6.0</td>\n",
              "      <td>No one can leave managed isolation for any rea...</td>\n",
              "      <td>real</td>\n",
              "      <td>0</td>\n",
              "    </tr>\n",
              "    <tr>\n",
              "      <th>6</th>\n",
              "      <td>7.0</td>\n",
              "      <td>#IndiaFightsCorona India has one of the lowest...</td>\n",
              "      <td>real</td>\n",
              "      <td>0</td>\n",
              "    </tr>\n",
              "    <tr>\n",
              "      <th>7</th>\n",
              "      <td>8.0</td>\n",
              "      <td>RT @WHO: #COVID19 transmission occurs primaril...</td>\n",
              "      <td>real</td>\n",
              "      <td>0</td>\n",
              "    </tr>\n",
              "    <tr>\n",
              "      <th>8</th>\n",
              "      <td>9.0</td>\n",
              "      <td>News and media outlet ABP Majha on the basis o...</td>\n",
              "      <td>fake</td>\n",
              "      <td>1</td>\n",
              "    </tr>\n",
              "    <tr>\n",
              "      <th>9</th>\n",
              "      <td>10.0</td>\n",
              "      <td>???Church services can???t resume until we???r...</td>\n",
              "      <td>fake</td>\n",
              "      <td>1</td>\n",
              "    </tr>\n",
              "  </tbody>\n",
              "</table>\n",
              "</div>\n",
              "      <button class=\"colab-df-convert\" onclick=\"convertToInteractive('df-f6d1be42-552a-4143-867a-baf1a903c152')\"\n",
              "              title=\"Convert this dataframe to an interactive table.\"\n",
              "              style=\"display:none;\">\n",
              "        \n",
              "  <svg xmlns=\"http://www.w3.org/2000/svg\" height=\"24px\"viewBox=\"0 0 24 24\"\n",
              "       width=\"24px\">\n",
              "    <path d=\"M0 0h24v24H0V0z\" fill=\"none\"/>\n",
              "    <path d=\"M18.56 5.44l.94 2.06.94-2.06 2.06-.94-2.06-.94-.94-2.06-.94 2.06-2.06.94zm-11 1L8.5 8.5l.94-2.06 2.06-.94-2.06-.94L8.5 2.5l-.94 2.06-2.06.94zm10 10l.94 2.06.94-2.06 2.06-.94-2.06-.94-.94-2.06-.94 2.06-2.06.94z\"/><path d=\"M17.41 7.96l-1.37-1.37c-.4-.4-.92-.59-1.43-.59-.52 0-1.04.2-1.43.59L10.3 9.45l-7.72 7.72c-.78.78-.78 2.05 0 2.83L4 21.41c.39.39.9.59 1.41.59.51 0 1.02-.2 1.41-.59l7.78-7.78 2.81-2.81c.8-.78.8-2.07 0-2.86zM5.41 20L4 18.59l7.72-7.72 1.47 1.35L5.41 20z\"/>\n",
              "  </svg>\n",
              "      </button>\n",
              "      \n",
              "  <style>\n",
              "    .colab-df-container {\n",
              "      display:flex;\n",
              "      flex-wrap:wrap;\n",
              "      gap: 12px;\n",
              "    }\n",
              "\n",
              "    .colab-df-convert {\n",
              "      background-color: #E8F0FE;\n",
              "      border: none;\n",
              "      border-radius: 50%;\n",
              "      cursor: pointer;\n",
              "      display: none;\n",
              "      fill: #1967D2;\n",
              "      height: 32px;\n",
              "      padding: 0 0 0 0;\n",
              "      width: 32px;\n",
              "    }\n",
              "\n",
              "    .colab-df-convert:hover {\n",
              "      background-color: #E2EBFA;\n",
              "      box-shadow: 0px 1px 2px rgba(60, 64, 67, 0.3), 0px 1px 3px 1px rgba(60, 64, 67, 0.15);\n",
              "      fill: #174EA6;\n",
              "    }\n",
              "\n",
              "    [theme=dark] .colab-df-convert {\n",
              "      background-color: #3B4455;\n",
              "      fill: #D2E3FC;\n",
              "    }\n",
              "\n",
              "    [theme=dark] .colab-df-convert:hover {\n",
              "      background-color: #434B5C;\n",
              "      box-shadow: 0px 1px 3px 1px rgba(0, 0, 0, 0.15);\n",
              "      filter: drop-shadow(0px 1px 2px rgba(0, 0, 0, 0.3));\n",
              "      fill: #FFFFFF;\n",
              "    }\n",
              "  </style>\n",
              "\n",
              "      <script>\n",
              "        const buttonEl =\n",
              "          document.querySelector('#df-f6d1be42-552a-4143-867a-baf1a903c152 button.colab-df-convert');\n",
              "        buttonEl.style.display =\n",
              "          google.colab.kernel.accessAllowed ? 'block' : 'none';\n",
              "\n",
              "        async function convertToInteractive(key) {\n",
              "          const element = document.querySelector('#df-f6d1be42-552a-4143-867a-baf1a903c152');\n",
              "          const dataTable =\n",
              "            await google.colab.kernel.invokeFunction('convertToInteractive',\n",
              "                                                     [key], {});\n",
              "          if (!dataTable) return;\n",
              "\n",
              "          const docLinkHtml = 'Like what you see? Visit the ' +\n",
              "            '<a target=\"_blank\" href=https://colab.research.google.com/notebooks/data_table.ipynb>data table notebook</a>'\n",
              "            + ' to learn more about interactive tables.';\n",
              "          element.innerHTML = '';\n",
              "          dataTable['output_type'] = 'display_data';\n",
              "          await google.colab.output.renderOutput(dataTable, element);\n",
              "          const docLink = document.createElement('div');\n",
              "          docLink.innerHTML = docLinkHtml;\n",
              "          element.appendChild(docLink);\n",
              "        }\n",
              "      </script>\n",
              "    </div>\n",
              "  </div>\n",
              "  "
            ]
          },
          "metadata": {},
          "execution_count": 25
        }
      ]
    },
    {
      "cell_type": "code",
      "metadata": {
        "id": "S8L2m2pJPewX",
        "colab": {
          "base_uri": "https://localhost:8080/"
        },
        "outputId": "ad43a5d8-720e-4f4e-b9d3-9028822f2544"
      },
      "source": [
        "import nltk\n",
        "nltk.download('punkt')\n",
        "nltk.download('stopwords')\n",
        "from nltk.corpus import stopwords\n",
        "from nltk.tokenize import word_tokenize"
      ],
      "execution_count": 26,
      "outputs": [
        {
          "output_type": "stream",
          "name": "stderr",
          "text": [
            "[nltk_data] Downloading package punkt to /root/nltk_data...\n",
            "[nltk_data]   Package punkt is already up-to-date!\n",
            "[nltk_data] Downloading package stopwords to /root/nltk_data...\n",
            "[nltk_data]   Unzipping corpora/stopwords.zip.\n"
          ]
        }
      ]
    },
    {
      "cell_type": "markdown",
      "metadata": {
        "id": "lLe2eMBF8nur"
      },
      "source": [
        "#Data Cleaning"
      ]
    },
    {
      "cell_type": "code",
      "metadata": {
        "id": "UDsDEPW-PTvf",
        "colab": {
          "base_uri": "https://localhost:8080/"
        },
        "outputId": "555dc68e-9449-4c7d-8f6c-ee711fe0fad6"
      },
      "source": [
        "%%time\n",
        "## Cleaning the data. Removing newlines, unnecessary symbols\n",
        "\n",
        "punctuations = '''’'!()-[]{};:'\"\\,<>./?@#$%^&*_~�'''\n",
        "\n",
        "\n",
        "\n",
        "def remove_punctuation_url(d):\n",
        "    d=d.lower()\n",
        "    d = re.sub(r'(https|http)?:\\/\\/(\\w|\\.|\\/|\\?|\\=|\\&|\\%)*\\b', '', d, flags=re.MULTILINE) #This line is for removing url\n",
        "    review = d.replace('\\n', '')\n",
        "    no_punct = \"\"\n",
        "    for char in review:\n",
        "      if char not in punctuations:\n",
        "         no_punct = no_punct + char\n",
        "    return no_punct\n",
        "\n",
        "def remove_stopwords(d):\n",
        "  text_tokens = word_tokenize(d.lower())\n",
        "  tokens_without_sw = [word for word in text_tokens if not word in stopwords.words('english')]\n",
        "  ls = \"\"\n",
        "  for w in tokens_without_sw:\n",
        "    ls = ls +\" \"+w.lower()\n",
        "  return ls\n",
        "\n",
        "#removing URLs and Punctuations\n",
        "#train_data['cleaned'] = train_data['tweet'].apply(remove_url)\n",
        "#Removing punctuations\n",
        "train_data['cleaned'] = train_data['tweet'].apply(remove_punctuation_url)\n",
        "validation_data['cleaned'] = validation_data['tweet'].apply(remove_punctuation_url)\n",
        "#Removing stop words\n",
        "#train_data['cleaned'] = train_data['cleaned'].apply(remove_stopwords)\n",
        "\n",
        "## Data samples after cleaning\n",
        "print(\"Data samples after cleaning:\\n\")\n",
        "for i in range(10):\n",
        "  print(train_data.cleaned[i])"
      ],
      "execution_count": 27,
      "outputs": [
        {
          "output_type": "stream",
          "name": "stdout",
          "text": [
            "Data samples after cleaning:\n",
            "\n",
            "the cdc currently reports 99031 deaths in general the discrepancies in death counts between different sources are small and explicable the death toll stands at roughly 100000 people today\n",
            "states reported 1121 deaths a small rise from last tuesday southern states reported 640 of those deaths \n",
            "politically correct woman almost uses pandemic as excuse not to reuse plastic bag  coronavirus nashville\n",
            "indiafightscorona we have 1524 covid testing laboratories in india and as on 25th august 2020 36827520 tests have been done  profbhargava dg icmrdelhi staysafe indiawillwin \n",
            "populous states can generate large case counts but if you look at the new cases per million today 9 smaller states are showing more cases per million than california or texas al ar id ks ky la ms nv and sc \n",
            "covid act now found on average each person in illinois with covid19 is infecting 111 other people data shows that the infection growth rate has declined over time this factors in the stayathome order and other restrictions put in place \n",
            "if you tested positive for covid19 and have no symptoms stay home and away from other people learn more about cdcs recommendations about when you can be around others after covid19 infection  \n",
            "obama calls trumps coronavirus response a chaotic disaster \n",
            "clearly the obama administration did not leave any kind of game plan for something like this\n",
            "retraction—hydroxychloroquine or chloroquine with or without a macrolide for treatment of covid19 a multinational registry analysis  the lancet \n",
            "CPU times: user 498 ms, sys: 3.33 ms, total: 502 ms\n",
            "Wall time: 524 ms\n"
          ]
        }
      ]
    },
    {
      "cell_type": "code",
      "metadata": {
        "id": "_TEVbgJBPpie",
        "colab": {
          "base_uri": "https://localhost:8080/",
          "height": 363
        },
        "outputId": "30f38452-0cdf-45ba-93c4-d6cd3b1d2cb1"
      },
      "source": [
        "train_data.head(10)\n",
        "# Now we have raw text, label and cleaned data"
      ],
      "execution_count": 28,
      "outputs": [
        {
          "output_type": "execute_result",
          "data": {
            "text/plain": [
              "     id                                              tweet label  \\\n",
              "0   1.0  The CDC currently reports 99031 deaths. In gen...  real   \n",
              "1   2.0  States reported 1121 deaths a small rise from ...  real   \n",
              "2   3.0  Politically Correct Woman (Almost) Uses Pandem...  fake   \n",
              "3   4.0  #IndiaFightsCorona: We have 1524 #COVID testin...  real   \n",
              "4   5.0  Populous states can generate large case counts...  real   \n",
              "5   6.0  Covid Act Now found \"on average each person in...  real   \n",
              "6   7.0  If you tested positive for #COVID19 and have n...  real   \n",
              "7   8.0  Obama Calls Trump’s Coronavirus Response A Cha...  fake   \n",
              "8   9.0  ???Clearly, the Obama administration did not l...  fake   \n",
              "9  10.0  Retraction—Hydroxychloroquine or chloroquine w...  fake   \n",
              "\n",
              "   training_label                                            cleaned  \n",
              "0               0  the cdc currently reports 99031 deaths in gene...  \n",
              "1               0  states reported 1121 deaths a small rise from ...  \n",
              "2               1  politically correct woman almost uses pandemic...  \n",
              "3               0  indiafightscorona we have 1524 covid testing l...  \n",
              "4               0  populous states can generate large case counts...  \n",
              "5               0  covid act now found on average each person in ...  \n",
              "6               0  if you tested positive for covid19 and have no...  \n",
              "7               1  obama calls trumps coronavirus response a chao...  \n",
              "8               1  clearly the obama administration did not leave...  \n",
              "9               1  retraction—hydroxychloroquine or chloroquine w...  "
            ],
            "text/html": [
              "\n",
              "  <div id=\"df-cc6b25b8-cb89-405b-9f92-7ce7939514eb\">\n",
              "    <div class=\"colab-df-container\">\n",
              "      <div>\n",
              "<style scoped>\n",
              "    .dataframe tbody tr th:only-of-type {\n",
              "        vertical-align: middle;\n",
              "    }\n",
              "\n",
              "    .dataframe tbody tr th {\n",
              "        vertical-align: top;\n",
              "    }\n",
              "\n",
              "    .dataframe thead th {\n",
              "        text-align: right;\n",
              "    }\n",
              "</style>\n",
              "<table border=\"1\" class=\"dataframe\">\n",
              "  <thead>\n",
              "    <tr style=\"text-align: right;\">\n",
              "      <th></th>\n",
              "      <th>id</th>\n",
              "      <th>tweet</th>\n",
              "      <th>label</th>\n",
              "      <th>training_label</th>\n",
              "      <th>cleaned</th>\n",
              "    </tr>\n",
              "  </thead>\n",
              "  <tbody>\n",
              "    <tr>\n",
              "      <th>0</th>\n",
              "      <td>1.0</td>\n",
              "      <td>The CDC currently reports 99031 deaths. In gen...</td>\n",
              "      <td>real</td>\n",
              "      <td>0</td>\n",
              "      <td>the cdc currently reports 99031 deaths in gene...</td>\n",
              "    </tr>\n",
              "    <tr>\n",
              "      <th>1</th>\n",
              "      <td>2.0</td>\n",
              "      <td>States reported 1121 deaths a small rise from ...</td>\n",
              "      <td>real</td>\n",
              "      <td>0</td>\n",
              "      <td>states reported 1121 deaths a small rise from ...</td>\n",
              "    </tr>\n",
              "    <tr>\n",
              "      <th>2</th>\n",
              "      <td>3.0</td>\n",
              "      <td>Politically Correct Woman (Almost) Uses Pandem...</td>\n",
              "      <td>fake</td>\n",
              "      <td>1</td>\n",
              "      <td>politically correct woman almost uses pandemic...</td>\n",
              "    </tr>\n",
              "    <tr>\n",
              "      <th>3</th>\n",
              "      <td>4.0</td>\n",
              "      <td>#IndiaFightsCorona: We have 1524 #COVID testin...</td>\n",
              "      <td>real</td>\n",
              "      <td>0</td>\n",
              "      <td>indiafightscorona we have 1524 covid testing l...</td>\n",
              "    </tr>\n",
              "    <tr>\n",
              "      <th>4</th>\n",
              "      <td>5.0</td>\n",
              "      <td>Populous states can generate large case counts...</td>\n",
              "      <td>real</td>\n",
              "      <td>0</td>\n",
              "      <td>populous states can generate large case counts...</td>\n",
              "    </tr>\n",
              "    <tr>\n",
              "      <th>5</th>\n",
              "      <td>6.0</td>\n",
              "      <td>Covid Act Now found \"on average each person in...</td>\n",
              "      <td>real</td>\n",
              "      <td>0</td>\n",
              "      <td>covid act now found on average each person in ...</td>\n",
              "    </tr>\n",
              "    <tr>\n",
              "      <th>6</th>\n",
              "      <td>7.0</td>\n",
              "      <td>If you tested positive for #COVID19 and have n...</td>\n",
              "      <td>real</td>\n",
              "      <td>0</td>\n",
              "      <td>if you tested positive for covid19 and have no...</td>\n",
              "    </tr>\n",
              "    <tr>\n",
              "      <th>7</th>\n",
              "      <td>8.0</td>\n",
              "      <td>Obama Calls Trump’s Coronavirus Response A Cha...</td>\n",
              "      <td>fake</td>\n",
              "      <td>1</td>\n",
              "      <td>obama calls trumps coronavirus response a chao...</td>\n",
              "    </tr>\n",
              "    <tr>\n",
              "      <th>8</th>\n",
              "      <td>9.0</td>\n",
              "      <td>???Clearly, the Obama administration did not l...</td>\n",
              "      <td>fake</td>\n",
              "      <td>1</td>\n",
              "      <td>clearly the obama administration did not leave...</td>\n",
              "    </tr>\n",
              "    <tr>\n",
              "      <th>9</th>\n",
              "      <td>10.0</td>\n",
              "      <td>Retraction—Hydroxychloroquine or chloroquine w...</td>\n",
              "      <td>fake</td>\n",
              "      <td>1</td>\n",
              "      <td>retraction—hydroxychloroquine or chloroquine w...</td>\n",
              "    </tr>\n",
              "  </tbody>\n",
              "</table>\n",
              "</div>\n",
              "      <button class=\"colab-df-convert\" onclick=\"convertToInteractive('df-cc6b25b8-cb89-405b-9f92-7ce7939514eb')\"\n",
              "              title=\"Convert this dataframe to an interactive table.\"\n",
              "              style=\"display:none;\">\n",
              "        \n",
              "  <svg xmlns=\"http://www.w3.org/2000/svg\" height=\"24px\"viewBox=\"0 0 24 24\"\n",
              "       width=\"24px\">\n",
              "    <path d=\"M0 0h24v24H0V0z\" fill=\"none\"/>\n",
              "    <path d=\"M18.56 5.44l.94 2.06.94-2.06 2.06-.94-2.06-.94-.94-2.06-.94 2.06-2.06.94zm-11 1L8.5 8.5l.94-2.06 2.06-.94-2.06-.94L8.5 2.5l-.94 2.06-2.06.94zm10 10l.94 2.06.94-2.06 2.06-.94-2.06-.94-.94-2.06-.94 2.06-2.06.94z\"/><path d=\"M17.41 7.96l-1.37-1.37c-.4-.4-.92-.59-1.43-.59-.52 0-1.04.2-1.43.59L10.3 9.45l-7.72 7.72c-.78.78-.78 2.05 0 2.83L4 21.41c.39.39.9.59 1.41.59.51 0 1.02-.2 1.41-.59l7.78-7.78 2.81-2.81c.8-.78.8-2.07 0-2.86zM5.41 20L4 18.59l7.72-7.72 1.47 1.35L5.41 20z\"/>\n",
              "  </svg>\n",
              "      </button>\n",
              "      \n",
              "  <style>\n",
              "    .colab-df-container {\n",
              "      display:flex;\n",
              "      flex-wrap:wrap;\n",
              "      gap: 12px;\n",
              "    }\n",
              "\n",
              "    .colab-df-convert {\n",
              "      background-color: #E8F0FE;\n",
              "      border: none;\n",
              "      border-radius: 50%;\n",
              "      cursor: pointer;\n",
              "      display: none;\n",
              "      fill: #1967D2;\n",
              "      height: 32px;\n",
              "      padding: 0 0 0 0;\n",
              "      width: 32px;\n",
              "    }\n",
              "\n",
              "    .colab-df-convert:hover {\n",
              "      background-color: #E2EBFA;\n",
              "      box-shadow: 0px 1px 2px rgba(60, 64, 67, 0.3), 0px 1px 3px 1px rgba(60, 64, 67, 0.15);\n",
              "      fill: #174EA6;\n",
              "    }\n",
              "\n",
              "    [theme=dark] .colab-df-convert {\n",
              "      background-color: #3B4455;\n",
              "      fill: #D2E3FC;\n",
              "    }\n",
              "\n",
              "    [theme=dark] .colab-df-convert:hover {\n",
              "      background-color: #434B5C;\n",
              "      box-shadow: 0px 1px 3px 1px rgba(0, 0, 0, 0.15);\n",
              "      filter: drop-shadow(0px 1px 2px rgba(0, 0, 0, 0.3));\n",
              "      fill: #FFFFFF;\n",
              "    }\n",
              "  </style>\n",
              "\n",
              "      <script>\n",
              "        const buttonEl =\n",
              "          document.querySelector('#df-cc6b25b8-cb89-405b-9f92-7ce7939514eb button.colab-df-convert');\n",
              "        buttonEl.style.display =\n",
              "          google.colab.kernel.accessAllowed ? 'block' : 'none';\n",
              "\n",
              "        async function convertToInteractive(key) {\n",
              "          const element = document.querySelector('#df-cc6b25b8-cb89-405b-9f92-7ce7939514eb');\n",
              "          const dataTable =\n",
              "            await google.colab.kernel.invokeFunction('convertToInteractive',\n",
              "                                                     [key], {});\n",
              "          if (!dataTable) return;\n",
              "\n",
              "          const docLinkHtml = 'Like what you see? Visit the ' +\n",
              "            '<a target=\"_blank\" href=https://colab.research.google.com/notebooks/data_table.ipynb>data table notebook</a>'\n",
              "            + ' to learn more about interactive tables.';\n",
              "          element.innerHTML = '';\n",
              "          dataTable['output_type'] = 'display_data';\n",
              "          await google.colab.output.renderOutput(dataTable, element);\n",
              "          const docLink = document.createElement('div');\n",
              "          docLink.innerHTML = docLinkHtml;\n",
              "          element.appendChild(docLink);\n",
              "        }\n",
              "      </script>\n",
              "    </div>\n",
              "  </div>\n",
              "  "
            ]
          },
          "metadata": {},
          "execution_count": 28
        }
      ]
    },
    {
      "cell_type": "markdown",
      "metadata": {
        "id": "G8VGGqcU8tJX"
      },
      "source": [
        "#Data Statistics"
      ]
    },
    {
      "cell_type": "code",
      "metadata": {
        "id": "y-8VdLGaWku9",
        "colab": {
          "base_uri": "https://localhost:8080/"
        },
        "outputId": "58286730-6325-4cdd-e32f-6fe99e0dbaa0"
      },
      "source": [
        "def data_statistics(class_names):\n",
        "  words_per_class = []\n",
        "  unique_words_per_class = []\n",
        "  documents_per_class = []\n",
        "\n",
        "  for label in class_names:\n",
        "    ## Word list from the clean dataset\n",
        "    word_list = [word.strip().lower() for t in list(train_data[train_data.label==label].cleaned) for word in t.strip().split()]\n",
        "    counts = dict()\n",
        "    for w in word_list:\n",
        "      counts[w] = counts.get(w, 0)+1\n",
        "    # Sort the word list on descending order in terms of frequency\n",
        "    ordered = sorted(counts.items(), key= lambda item: item[1],reverse = True)\n",
        "    # Total words per class\n",
        "    words_per_class.append(len(word_list))\n",
        "    # Unique words per class\n",
        "    unique_words_per_class.append(len(np.unique(word_list)))\n",
        "    # Number of documents per class\n",
        "    documents_per_class.append(len(list(train_data[train_data.label==label].cleaned)))\n",
        "\n",
        "    print(\"Class name: {}\".format(label))\n",
        "    print(\"Number of words: {}\".format(len(word_list)))\n",
        "    print(\"Number of unique words: {}\".format(len(np.unique(word_list)))) \n",
        "    print(\"Number of Documents: {}\".format(len(list(train_data[train_data.label==label].cleaned))))  \n",
        "    print(\"10 most frequent words:\\n\")\n",
        "    for i, f in ordered[:10]:\n",
        "      print(\"{}\\t{}\".format(i, f))\n",
        "    \n",
        "  return words_per_class, unique_words_per_class, documents_per_class\n",
        "\n",
        "class_names = ['real','fake']\n",
        "\n",
        "words, unique_words, documents = data_statistics(class_names)"
      ],
      "execution_count": 29,
      "outputs": [
        {
          "output_type": "stream",
          "name": "stdout",
          "text": [
            "Class name: real\n",
            "Number of words: 103123\n",
            "Number of unique words: 10771\n",
            "Number of Documents: 3360\n",
            "10 most frequent words:\n",
            "\n",
            "the\t4053\n",
            "of\t3071\n",
            "to\t2485\n",
            "in\t2440\n",
            "covid19\t2079\n",
            "and\t1689\n",
            "cases\t1564\n",
            "a\t1420\n",
            "is\t1267\n",
            "are\t1138\n",
            "Class name: fake\n",
            "Number of words: 65076\n",
            "Number of unique words: 10305\n",
            "Number of Documents: 3060\n",
            "10 most frequent words:\n",
            "\n",
            "the\t2900\n",
            "a\t1664\n",
            "to\t1630\n",
            "of\t1538\n",
            "in\t1436\n",
            "coronavirus\t1294\n",
            "covid19\t1169\n",
            "and\t1038\n",
            "is\t781\n",
            "for\t716\n"
          ]
        }
      ]
    },
    {
      "cell_type": "code",
      "metadata": {
        "id": "xaxmz-1FYdXe",
        "colab": {
          "base_uri": "https://localhost:8080/",
          "height": 112
        },
        "outputId": "3657019d-b48b-464e-d212-f477cc6e0307"
      },
      "source": [
        "data_matrix = pd.DataFrame({'Total Documents':documents,\n",
        "                            'Total Words':words,\n",
        "                            'Unique Words':unique_words,\n",
        "                            'Class Names':class_names})\n",
        "data_matrix"
      ],
      "execution_count": 30,
      "outputs": [
        {
          "output_type": "execute_result",
          "data": {
            "text/plain": [
              "   Total Documents  Total Words  Unique Words Class Names\n",
              "0             3360       103123         10771        real\n",
              "1             3060        65076         10305        fake"
            ],
            "text/html": [
              "\n",
              "  <div id=\"df-bdff201c-2c09-4a18-bb16-ce10b7872706\">\n",
              "    <div class=\"colab-df-container\">\n",
              "      <div>\n",
              "<style scoped>\n",
              "    .dataframe tbody tr th:only-of-type {\n",
              "        vertical-align: middle;\n",
              "    }\n",
              "\n",
              "    .dataframe tbody tr th {\n",
              "        vertical-align: top;\n",
              "    }\n",
              "\n",
              "    .dataframe thead th {\n",
              "        text-align: right;\n",
              "    }\n",
              "</style>\n",
              "<table border=\"1\" class=\"dataframe\">\n",
              "  <thead>\n",
              "    <tr style=\"text-align: right;\">\n",
              "      <th></th>\n",
              "      <th>Total Documents</th>\n",
              "      <th>Total Words</th>\n",
              "      <th>Unique Words</th>\n",
              "      <th>Class Names</th>\n",
              "    </tr>\n",
              "  </thead>\n",
              "  <tbody>\n",
              "    <tr>\n",
              "      <th>0</th>\n",
              "      <td>3360</td>\n",
              "      <td>103123</td>\n",
              "      <td>10771</td>\n",
              "      <td>real</td>\n",
              "    </tr>\n",
              "    <tr>\n",
              "      <th>1</th>\n",
              "      <td>3060</td>\n",
              "      <td>65076</td>\n",
              "      <td>10305</td>\n",
              "      <td>fake</td>\n",
              "    </tr>\n",
              "  </tbody>\n",
              "</table>\n",
              "</div>\n",
              "      <button class=\"colab-df-convert\" onclick=\"convertToInteractive('df-bdff201c-2c09-4a18-bb16-ce10b7872706')\"\n",
              "              title=\"Convert this dataframe to an interactive table.\"\n",
              "              style=\"display:none;\">\n",
              "        \n",
              "  <svg xmlns=\"http://www.w3.org/2000/svg\" height=\"24px\"viewBox=\"0 0 24 24\"\n",
              "       width=\"24px\">\n",
              "    <path d=\"M0 0h24v24H0V0z\" fill=\"none\"/>\n",
              "    <path d=\"M18.56 5.44l.94 2.06.94-2.06 2.06-.94-2.06-.94-.94-2.06-.94 2.06-2.06.94zm-11 1L8.5 8.5l.94-2.06 2.06-.94-2.06-.94L8.5 2.5l-.94 2.06-2.06.94zm10 10l.94 2.06.94-2.06 2.06-.94-2.06-.94-.94-2.06-.94 2.06-2.06.94z\"/><path d=\"M17.41 7.96l-1.37-1.37c-.4-.4-.92-.59-1.43-.59-.52 0-1.04.2-1.43.59L10.3 9.45l-7.72 7.72c-.78.78-.78 2.05 0 2.83L4 21.41c.39.39.9.59 1.41.59.51 0 1.02-.2 1.41-.59l7.78-7.78 2.81-2.81c.8-.78.8-2.07 0-2.86zM5.41 20L4 18.59l7.72-7.72 1.47 1.35L5.41 20z\"/>\n",
              "  </svg>\n",
              "      </button>\n",
              "      \n",
              "  <style>\n",
              "    .colab-df-container {\n",
              "      display:flex;\n",
              "      flex-wrap:wrap;\n",
              "      gap: 12px;\n",
              "    }\n",
              "\n",
              "    .colab-df-convert {\n",
              "      background-color: #E8F0FE;\n",
              "      border: none;\n",
              "      border-radius: 50%;\n",
              "      cursor: pointer;\n",
              "      display: none;\n",
              "      fill: #1967D2;\n",
              "      height: 32px;\n",
              "      padding: 0 0 0 0;\n",
              "      width: 32px;\n",
              "    }\n",
              "\n",
              "    .colab-df-convert:hover {\n",
              "      background-color: #E2EBFA;\n",
              "      box-shadow: 0px 1px 2px rgba(60, 64, 67, 0.3), 0px 1px 3px 1px rgba(60, 64, 67, 0.15);\n",
              "      fill: #174EA6;\n",
              "    }\n",
              "\n",
              "    [theme=dark] .colab-df-convert {\n",
              "      background-color: #3B4455;\n",
              "      fill: #D2E3FC;\n",
              "    }\n",
              "\n",
              "    [theme=dark] .colab-df-convert:hover {\n",
              "      background-color: #434B5C;\n",
              "      box-shadow: 0px 1px 3px 1px rgba(0, 0, 0, 0.15);\n",
              "      filter: drop-shadow(0px 1px 2px rgba(0, 0, 0, 0.3));\n",
              "      fill: #FFFFFF;\n",
              "    }\n",
              "  </style>\n",
              "\n",
              "      <script>\n",
              "        const buttonEl =\n",
              "          document.querySelector('#df-bdff201c-2c09-4a18-bb16-ce10b7872706 button.colab-df-convert');\n",
              "        buttonEl.style.display =\n",
              "          google.colab.kernel.accessAllowed ? 'block' : 'none';\n",
              "\n",
              "        async function convertToInteractive(key) {\n",
              "          const element = document.querySelector('#df-bdff201c-2c09-4a18-bb16-ce10b7872706');\n",
              "          const dataTable =\n",
              "            await google.colab.kernel.invokeFunction('convertToInteractive',\n",
              "                                                     [key], {});\n",
              "          if (!dataTable) return;\n",
              "\n",
              "          const docLinkHtml = 'Like what you see? Visit the ' +\n",
              "            '<a target=\"_blank\" href=https://colab.research.google.com/notebooks/data_table.ipynb>data table notebook</a>'\n",
              "            + ' to learn more about interactive tables.';\n",
              "          element.innerHTML = '';\n",
              "          dataTable['output_type'] = 'display_data';\n",
              "          await google.colab.output.renderOutput(dataTable, element);\n",
              "          const docLink = document.createElement('div');\n",
              "          docLink.innerHTML = docLinkHtml;\n",
              "          element.appendChild(docLink);\n",
              "        }\n",
              "      </script>\n",
              "    </div>\n",
              "  </div>\n",
              "  "
            ]
          },
          "metadata": {},
          "execution_count": 30
        }
      ]
    },
    {
      "cell_type": "code",
      "metadata": {
        "id": "ybGfsTvLYieC",
        "colab": {
          "base_uri": "https://localhost:8080/",
          "height": 346
        },
        "outputId": "38bd1864-6095-40df-fff9-188bf40e64f6"
      },
      "source": [
        "import seaborn as sns\n",
        "import matplotlib.pyplot as plt\n",
        "\n",
        "sns.set()\n",
        "plt.figure(figsize =(6, 4))\n",
        "ax = plt.subplot()\n",
        "sns.heatmap(data_matrix.iloc[:,0:3], annot=True,fmt=\"d\", linewidths=0.5,linecolor = 'Black',cmap = 'Greens',ax = ax) #annot=True to annotate cells\n",
        "# labels, title and ticks\n",
        "ax.set_ylabel('Class Names') \n",
        "ax.set_title('Data Statistics')\n",
        "y_label = [\"Total Documents\", \"Total Words\", \"Unique Words\"] \n",
        "ax.xaxis.set_ticklabels(y_label, rotation=45); ax.yaxis.set_ticklabels(class_names, rotation=45);\n",
        "ax.xaxis.tick_top()"
      ],
      "execution_count": 31,
      "outputs": [
        {
          "output_type": "display_data",
          "data": {
            "text/plain": [
              "<Figure size 432x288 with 2 Axes>"
            ],
            "image/png": "[encoded data removed]"
          },
          "metadata": {}
        }
      ]
    },
    {
      "cell_type": "code",
      "metadata": {
        "id": "w03pOR2bYoAZ",
        "colab": {
          "base_uri": "https://localhost:8080/"
        },
        "outputId": "6aaa4b94-221e-4409-de34-86452329991a"
      },
      "source": [
        "df = pd.melt(data_matrix, id_vars=\"Class Names\", var_name=\"Category\", value_name=\"Values\")\n",
        "print(df)"
      ],
      "execution_count": 32,
      "outputs": [
        {
          "output_type": "stream",
          "name": "stdout",
          "text": [
            "  Class Names         Category  Values\n",
            "0        real  Total Documents    3360\n",
            "1        fake  Total Documents    3060\n",
            "2        real      Total Words  103123\n",
            "3        fake      Total Words   65076\n",
            "4        real     Unique Words   10771\n",
            "5        fake     Unique Words   10305\n"
          ]
        }
      ]
    },
    {
      "cell_type": "code",
      "metadata": {
        "id": "M5cDppXgYtqi",
        "colab": {
          "base_uri": "https://localhost:8080/",
          "height": 423
        },
        "outputId": "6de0538a-5e9d-4cc8-daae-597fb2f4fb45"
      },
      "source": [
        "plt.figure(figsize=(8, 6))\n",
        "ax = plt.subplot()\n",
        "\n",
        "sns.barplot(data=df,x='Class Names', y='Values' ,hue='Category')\n",
        "ax.set_xlabel('Class Names') \n",
        "ax.set_title('Data Statistics')\n",
        "\n",
        "ax.xaxis.set_ticklabels(class_names, rotation=45);"
      ],
      "execution_count": 33,
      "outputs": [
        {
          "output_type": "display_data",
          "data": {
            "text/plain": [
              "<Figure size 576x432 with 1 Axes>"
            ],
            "image/png": "[encoded data removed]"
          },
          "metadata": {}
        }
      ]
    },
    {
      "cell_type": "code",
      "metadata": {
        "id": "eD5fttlOYzZ9",
        "colab": {
          "base_uri": "https://localhost:8080/"
        },
        "outputId": "19d0e8dd-5aed-4c84-9c6e-670e6da069b2"
      },
      "source": [
        "frequency = dict()\n",
        "for x in train_data['cleaned']:\n",
        "  i = len(x.split())\n",
        "  frequency[i] = frequency.get(i, 0)+1\n",
        "frequency = sorted(frequency.items(), key= lambda item: item[0])\n",
        "print(frequency)\n",
        "print(type(frequency))"
      ],
      "execution_count": 34,
      "outputs": [
        {
          "output_type": "stream",
          "name": "stdout",
          "text": [
            "[(2, 1), (3, 8), (4, 10), (5, 29), (6, 62), (7, 107), (8, 115), (9, 147), (10, 171), (11, 210), (12, 224), (13, 208), (14, 233), (15, 230), (16, 192), (17, 175), (18, 176), (19, 151), (20, 167), (21, 173), (22, 153), (23, 130), (24, 160), (25, 133), (26, 118), (27, 146), (28, 129), (29, 150), (30, 152), (31, 138), (32, 137), (33, 148), (34, 133), (35, 151), (36, 123), (37, 151), (38, 155), (39, 139), (40, 124), (41, 147), (42, 115), (43, 105), (44, 105), (45, 89), (46, 86), (47, 58), (48, 56), (49, 43), (50, 37), (51, 29), (52, 12), (53, 14), (54, 10), (55, 5), (56, 4), (57, 7), (58, 4), (59, 4), (60, 2), (61, 2), (63, 1), (64, 2), (65, 2), (66, 1), (67, 2), (70, 1), (71, 1), (72, 1), (73, 1), (77, 1), (78, 1), (79, 1), (81, 1), (85, 1), (86, 1), (87, 1), (93, 2), (96, 1), (98, 1), (118, 1), (325, 1), (822, 1), (1409, 1)]\n",
            "<class 'list'>\n"
          ]
        }
      ]
    },
    {
      "cell_type": "code",
      "metadata": {
        "id": "RqrDKpY4Y2-E",
        "colab": {
          "base_uri": "https://localhost:8080/",
          "height": 408
        },
        "outputId": "578d7e57-a8a0-4c83-a0f1-aaedea0dfe9d"
      },
      "source": [
        "xx = [x for x, k in frequency]\n",
        "yy = [k for x, k in frequency]\n",
        "print(xx, yy)\n",
        "fig = plt.figure()\n",
        "ax = fig.add_axes([0,0,1,1])\n",
        "\n",
        "ax.bar(xx,yy, color='r')\n",
        "plt.xlim(1, 80)\n",
        "\n",
        "plt.xlabel('Lenght of the Texts')\n",
        "plt.ylabel('Frequency')\n",
        "plt.title('Length-Frequency Distribution')\n",
        "plt.show()\n"
      ],
      "execution_count": 35,
      "outputs": [
        {
          "output_type": "stream",
          "name": "stdout",
          "text": [
            "[2, 3, 4, 5, 6, 7, 8, 9, 10, 11, 12, 13, 14, 15, 16, 17, 18, 19, 20, 21, 22, 23, 24, 25, 26, 27, 28, 29, 30, 31, 32, 33, 34, 35, 36, 37, 38, 39, 40, 41, 42, 43, 44, 45, 46, 47, 48, 49, 50, 51, 52, 53, 54, 55, 56, 57, 58, 59, 60, 61, 63, 64, 65, 66, 67, 70, 71, 72, 73, 77, 78, 79, 81, 85, 86, 87, 93, 96, 98, 118, 325, 822, 1409] [1, 8, 10, 29, 62, 107, 115, 147, 171, 210, 224, 208, 233, 230, 192, 175, 176, 151, 167, 173, 153, 130, 160, 133, 118, 146, 129, 150, 152, 138, 137, 148, 133, 151, 123, 151, 155, 139, 124, 147, 115, 105, 105, 89, 86, 58, 56, 43, 37, 29, 12, 14, 10, 5, 4, 7, 4, 4, 2, 2, 1, 2, 2, 1, 2, 1, 1, 1, 1, 1, 1, 1, 1, 1, 1, 1, 2, 1, 1, 1, 1, 1, 1]\n"
          ]
        },
        {
          "output_type": "display_data",
          "data": {
            "text/plain": [
              "<Figure size 432x288 with 1 Axes>"
            ],
            "image/png": "[encoded data removed]"
          },
          "metadata": {}
        }
      ]
    },
    {
      "cell_type": "markdown",
      "metadata": {
        "id": "Pq-2nTw285LH"
      },
      "source": [
        "#Tokenizer Definition"
      ]
    },
    {
      "cell_type": "code",
      "metadata": {
        "id": "oCAmT9ljZBDJ",
        "colab": {
          "base_uri": "https://localhost:8080/"
        },
        "outputId": "9b0d203b-a785-41c9-c03f-58c5b1cdac03"
      },
      "source": [
        "from tensorflow.keras.preprocessing.text import Tokenizer\n",
        "\n",
        "def text_encoding(texts, labels, max_words, padding_length):\n",
        "  tokenizer = Tokenizer(num_words = max_words, filters='!\"#$%&()*+,-./:;<=>?@[\\\\]^_`{|}~\\t\\n-', \n",
        "                      split=' ', char_level=False, oov_token=None, document_count=0)\n",
        "  \n",
        "  # Tokenizer is fitted into the texts\n",
        "  tokenizer.fit_on_texts(texts)\n",
        "\n",
        "  # Printing tokenizer information\n",
        "  (word_counts,word_docs,word_index,document_count) = (tokenizer.word_counts,\n",
        "                                                       tokenizer.word_docs,\n",
        "                                                       tokenizer.word_index,\n",
        "                                                       tokenizer.document_count)\n",
        "  \n",
        "  def tokenizer_info(mylist):\n",
        "    ordered = sorted(mylist.items(), key= lambda item: item[1],reverse = True)\n",
        "    for w,c in ordered[:10]:\n",
        "      print(w,\"\\t\",c)\n",
        "  \n",
        "  print(color.BOLD+\"\\t\\t\\t====== Tokenizer Info ======\"+color.END)   \n",
        "  print(\"Words --> Counts:\")\n",
        "  tokenizer_info(word_counts)\n",
        "  print(\"\\nWords --> Documents:\")\n",
        "  tokenizer_info(word_docs)\n",
        "  print(\"\\nWords --> Index:\")\n",
        "  tokenizer_info(word_index)    \n",
        "  print(\"\\nTotal Documents -->\",document_count)\n",
        "\n",
        "  # Encoding texts into integer sequences\n",
        "  sequences = tokenizer.texts_to_sequences(texts)\n",
        "  word_index = tokenizer.word_index\n",
        "  print(color.BOLD+\"\\n\\t\\t\\t====== Encoded Sequences ======\"+color.END,\"\\nFound {} unique tokens\".format(len(word_index)))  \n",
        "  print(texts[10],\"\\n\",sequences[10])\n",
        "\n",
        "  # Pad sequences\n",
        "  corpus = keras.preprocessing.sequence.pad_sequences(sequences, value=0.0,\n",
        "                                                      padding='post', maxlen= padding_length)\n",
        "  print(\"\\n\\t\\t\\t====== Paded Sequences ======\\n\",texts[10],\"\\n\",corpus[10])\n",
        "\n",
        "  return corpus, labels, tokenizer\n",
        "\n",
        "##\n",
        "max_words = 20000# Based on number of unique words in the dataset\n",
        "padding_length = 100\n",
        "\n",
        "corpus, labels, tokenizer = text_encoding(train_data.cleaned, train_data.training_label, max_words, padding_length)   \n",
        "\n"
      ],
      "execution_count": 36,
      "outputs": [
        {
          "output_type": "stream",
          "name": "stdout",
          "text": [
            "\u001b[1m\t\t\t====== Tokenizer Info ======\u001b[0m\n",
            "Words --> Counts:\n",
            "the \t 6953\n",
            "of \t 4609\n",
            "to \t 4115\n",
            "in \t 3876\n",
            "covid19 \t 3248\n",
            "a \t 3084\n",
            "and \t 2727\n",
            "is \t 2048\n",
            "for \t 1831\n",
            "cases \t 1721\n",
            "\n",
            "Words --> Documents:\n",
            "the \t 3733\n",
            "of \t 3061\n",
            "to \t 2859\n",
            "in \t 2695\n",
            "covid19 \t 2684\n",
            "a \t 2193\n",
            "and \t 2068\n",
            "is \t 1612\n",
            "for \t 1537\n",
            "coronavirus \t 1496\n",
            "\n",
            "Words --> Index:\n",
            "infertility \t 17523\n",
            "dargah \t 17522\n",
            "intubate \t 17521\n",
            "repandybiggsaz \t 17520\n",
            "rickleventhal \t 17519\n",
            "ashley \t 17518\n",
            "charliekirk11 \t 17517\n",
            "daveman19802 \t 17516\n",
            "kagashley \t 17515\n",
            "reserved \t 17514\n",
            "\n",
            "Total Documents --> 6420\n",
            "\u001b[1m\n",
            "\t\t\t====== Encoded Sequences ======\u001b[0m \n",
            "Found 17523 unique tokens\n",
            "take simple daily precautions to help prevent the spread of respiratory illnesses like covid19 learn how to protect yourself from coronavirus covid19   \n",
            " [163, 1269, 92, 1461, 3, 141, 237, 1, 98, 2, 695, 1082, 177, 5, 173, 152, 3, 217, 360, 15, 11, 5]\n",
            "\n",
            "\t\t\t====== Paded Sequences ======\n",
            " take simple daily precautions to help prevent the spread of respiratory illnesses like covid19 learn how to protect yourself from coronavirus covid19   \n",
            " [ 163 1269   92 1461    3  141  237    1   98    2  695 1082  177    5\n",
            "  173  152    3  217  360   15   11    5    0    0    0    0    0    0\n",
            "    0    0    0    0    0    0    0    0    0    0    0    0    0    0\n",
            "    0    0    0    0    0    0    0    0    0    0    0    0    0    0\n",
            "    0    0    0    0    0    0    0    0    0    0    0    0    0    0\n",
            "    0    0    0    0    0    0    0    0    0    0    0    0    0    0\n",
            "    0    0    0    0    0    0    0    0    0    0    0    0    0    0\n",
            "    0    0]\n"
          ]
        }
      ]
    },
    {
      "cell_type": "code",
      "metadata": {
        "id": "sNH39PHLZqzn"
      },
      "source": [
        "training_data, training_labels = corpus, labels"
      ],
      "execution_count": 37,
      "outputs": []
    },
    {
      "cell_type": "code",
      "metadata": {
        "colab": {
          "base_uri": "https://localhost:8080/"
        },
        "id": "bm9o5OrS0s-o",
        "outputId": "dfc1ba32-c970-40b9-be28-53b3699a8ecf"
      },
      "source": [
        "print(training_data, training_labels)"
      ],
      "execution_count": 38,
      "outputs": [
        {
          "output_type": "stream",
          "name": "stdout",
          "text": [
            "[[   1  140  271 ...    0    0    0]\n",
            " [  35   41 7571 ...    0    0    0]\n",
            " [5152 1842  437 ...    0    0    0]\n",
            " ...\n",
            " [   6  326  161 ...    0    0    0]\n",
            " [2930 1014 2802 ...    0    0    0]\n",
            " [  33   19   32 ...    0    0    0]] 0       0\n",
            "1       0\n",
            "2       1\n",
            "3       0\n",
            "4       0\n",
            "       ..\n",
            "6415    1\n",
            "6416    1\n",
            "6417    1\n",
            "6418    1\n",
            "6419    0\n",
            "Name: training_label, Length: 6420, dtype: int64\n"
          ]
        }
      ]
    },
    {
      "cell_type": "markdown",
      "metadata": {
        "id": "F7hinH8p9LYa"
      },
      "source": [
        "#Define Callbacks()"
      ]
    },
    {
      "cell_type": "code",
      "metadata": {
        "id": "bJLff66jaFZa"
      },
      "source": [
        "## Defining Callbacks\n",
        "def define_callback():\n",
        "  keras.backend.clear_session()\n",
        "  accuracy_threshold = .999\n",
        "\n",
        "  class myCallback(keras.callbacks.Callback):\n",
        "    def on_epoch_end(self, epoch, logs={}):\n",
        "        if(logs.get('accuracy')>accuracy_threshold):\n",
        "          print(\"\\nReached %2.2f%% accuracy so we will stop trianing\" % (accuracy_threshold*100))\n",
        "          self.model.stop_training = True\n",
        "\n",
        "  acc_callback = myCallback()\n",
        "\n",
        "  return acc_callback\n",
        "\n",
        "# Define TensorBoard\n",
        "def define_TensorBoard():\n",
        "  %load_ext tensorboard\n",
        "  import datetime, os\n",
        "  logdir = os.path.join(\"logs\", datetime.datetime.now().strftime(\"%Y%m%d-%H%M%S\"))\n",
        "  tensorboard_callback = tf.keras.callbacks.TensorBoard(logdir, histogram_freq=1)\n",
        "\n",
        "  return tensorboard_callback\n",
        "\n",
        "# Define Checkpoint\n",
        "def define_checkpoint():\n",
        "  filepath = \"ModelOnOurData.h5\"\n",
        "  checkpoint = keras.callbacks.ModelCheckpoint(filepath, monitor='val_accuracy', verbose=2, save_best_only=True, save_weights_only=False, mode='max')\n",
        "  return checkpoint"
      ],
      "execution_count": 39,
      "outputs": []
    },
    {
      "cell_type": "markdown",
      "metadata": {
        "id": "3bkG3rqg9VXR"
      },
      "source": [
        "#Model Definition"
      ]
    },
    {
      "cell_type": "code",
      "metadata": {
        "id": "X1_lN3mSaaT5"
      },
      "source": [
        "# Create Model\n",
        "def create_model(embedding_dim):\n",
        "  keras.backend.clear_session()\n",
        "  no_of_class = len(class_names)\n",
        "\n",
        "  model = keras.models.Sequential([\n",
        "      keras.layers.Embedding(max_words, embedding_dim, input_length = padding_length),\n",
        "      #keras.layers.Conv1D(64, 5, activation='relu'),\n",
        "      #keras.layers.MaxPooling1D(5),\n",
        "      #keras.layers.Bidirectional(LSTM(64, return_sequences=True, dropout=0.2)),\n",
        "      keras.layers.Bidirectional(LSTM(32, dropout=0.2)),\n",
        "      keras.layers.Flatten(),\n",
        "      keras.layers.Dense(no_of_class, activation = 'softmax')\n",
        "  ])\n",
        "\n",
        "  model.summary()\n",
        "  return model\n",
        "\n",
        "# Visualize Model\n",
        "def model_visualize(model):\n",
        "  from tensorflow.keras.utils import plot_model\n",
        "  plot_model(model, to_file = 'print.png', show_shapes = True, show_layer_names = True)\n",
        "\n",
        "# Compile Model\n",
        "def compile_model(model):\n",
        "  model.compile(optimizer='adam',\n",
        "                  loss='sparse_categorical_crossentropy',\n",
        "                  metrics='accuracy')\n",
        "  return model\n"
      ],
      "execution_count": 40,
      "outputs": []
    },
    {
      "cell_type": "code",
      "metadata": {
        "id": "vaNR7BW0akWx",
        "colab": {
          "base_uri": "https://localhost:8080/"
        },
        "outputId": "2ce9ba7f-7f90-4676-a38b-2d48a6ecfa76"
      },
      "source": [
        "%%time\n",
        "## Callbacks are really important \n",
        "\n",
        "def run_callback_list():\n",
        "  acc_callback = define_callback()\n",
        "  checkpoint = define_checkpoint()\n",
        "  tensorboard_callback = define_TensorBoard()\n",
        "  return [acc_callback, checkpoint, tensorboard_callback] \n",
        "\n",
        "callback_list = run_callback_list()\n",
        "\n",
        "def run_model():\n",
        "    embedding_dim = 100\n",
        "    model = create_model(embedding_dim)\n",
        "    model = compile_model(model)\n",
        "    model_visualize(model)\n",
        "    return model\n",
        "\n",
        "## Create, Compile and Visualize the model\n",
        "cnn_lstm_model = run_model() ## \n"
      ],
      "execution_count": 41,
      "outputs": [
        {
          "output_type": "stream",
          "name": "stdout",
          "text": [
            "Model: \"sequential\"\n",
            "_________________________________________________________________\n",
            " Layer (type)                Output Shape              Param #   \n",
            "=================================================================\n",
            " embedding (Embedding)       (None, 100, 100)          2000000   \n",
            "                                                                 \n",
            " bidirectional (Bidirectiona  (None, 64)               34048     \n",
            " l)                                                              \n",
            "                                                                 \n",
            " flatten (Flatten)           (None, 64)                0         \n",
            "                                                                 \n",
            " dense (Dense)               (None, 2)                 130       \n",
            "                                                                 \n",
            "=================================================================\n",
            "Total params: 2,034,178\n",
            "Trainable params: 2,034,178\n",
            "Non-trainable params: 0\n",
            "_________________________________________________________________\n",
            "CPU times: user 1.18 s, sys: 572 ms, total: 1.75 s\n",
            "Wall time: 4.29 s\n"
          ]
        }
      ]
    },
    {
      "cell_type": "code",
      "metadata": {
        "id": "P_bJELI1aqBw",
        "colab": {
          "base_uri": "https://localhost:8080/"
        },
        "outputId": "b27e681f-be2b-4450-c621-fbc60391bba8"
      },
      "source": [
        "cnn_lstm_model_history = cnn_lstm_model.fit(training_data,\n",
        "                              training_labels,\n",
        "                              epochs = 100,\n",
        "                              batch_size = 128,\n",
        "                              verbose = 1,\n",
        "                              validation_split = 0.15,\n",
        "                              callbacks = callback_list)"
      ],
      "execution_count": 42,
      "outputs": [
        {
          "output_type": "stream",
          "name": "stdout",
          "text": [
            "Epoch 1/100\n",
            "43/43 [==============================] - ETA: 0s - loss: 0.5758 - accuracy: 0.7249\n",
            "Epoch 1: val_accuracy improved from -inf to 0.86604, saving model to ModelOnOurData.h5\n",
            "43/43 [==============================] - 18s 204ms/step - loss: 0.5758 - accuracy: 0.7249 - val_loss: 0.3500 - val_accuracy: 0.8660\n",
            "Epoch 2/100\n",
            "43/43 [==============================] - ETA: 0s - loss: 0.2597 - accuracy: 0.8955\n",
            "Epoch 2: val_accuracy improved from 0.86604 to 0.90239, saving model to ModelOnOurData.h5\n",
            "43/43 [==============================] - 7s 154ms/step - loss: 0.2597 - accuracy: 0.8955 - val_loss: 0.2513 - val_accuracy: 0.9024\n",
            "Epoch 3/100\n",
            "43/43 [==============================] - ETA: 0s - loss: 0.1206 - accuracy: 0.9599\n",
            "Epoch 3: val_accuracy improved from 0.90239 to 0.91796, saving model to ModelOnOurData.h5\n",
            "43/43 [==============================] - 6s 146ms/step - loss: 0.1206 - accuracy: 0.9599 - val_loss: 0.2102 - val_accuracy: 0.9180\n",
            "Epoch 4/100\n",
            "43/43 [==============================] - ETA: 0s - loss: 0.0505 - accuracy: 0.9853\n",
            "Epoch 4: val_accuracy improved from 0.91796 to 0.92212, saving model to ModelOnOurData.h5\n",
            "43/43 [==============================] - 5s 112ms/step - loss: 0.0505 - accuracy: 0.9853 - val_loss: 0.2123 - val_accuracy: 0.9221\n",
            "Epoch 5/100\n",
            "43/43 [==============================] - ETA: 0s - loss: 0.0221 - accuracy: 0.9951\n",
            "Epoch 5: val_accuracy improved from 0.92212 to 0.92731, saving model to ModelOnOurData.h5\n",
            "43/43 [==============================] - 4s 101ms/step - loss: 0.0221 - accuracy: 0.9951 - val_loss: 0.2319 - val_accuracy: 0.9273\n",
            "Epoch 6/100\n",
            "43/43 [==============================] - ETA: 0s - loss: 0.0112 - accuracy: 0.9973\n",
            "Epoch 6: val_accuracy did not improve from 0.92731\n",
            "43/43 [==============================] - 4s 91ms/step - loss: 0.0112 - accuracy: 0.9973 - val_loss: 0.2651 - val_accuracy: 0.9107\n",
            "Epoch 7/100\n",
            "43/43 [==============================] - ETA: 0s - loss: 0.0086 - accuracy: 0.9993\n",
            "Reached 99.90% accuracy so we will stop trianing\n",
            "\n",
            "Epoch 7: val_accuracy did not improve from 0.92731\n",
            "43/43 [==============================] - 3s 67ms/step - loss: 0.0086 - accuracy: 0.9993 - val_loss: 0.2737 - val_accuracy: 0.9211\n"
          ]
        }
      ]
    },
    {
      "cell_type": "markdown",
      "metadata": {
        "id": "JaW6HiKJPN7f"
      },
      "source": [
        "# Prediction on validation Set"
      ]
    },
    {
      "cell_type": "code",
      "metadata": {
        "id": "9Hzv2M9CfWmY",
        "colab": {
          "base_uri": "https://localhost:8080/"
        },
        "outputId": "6addd4b2-93fe-4c2e-e212-9988c907ace6"
      },
      "source": [
        "val_filename = \"/content/Constraint_English_Val .xlsx\"\n",
        "validation_data = pd.read_excel(val_filename)\n",
        "print(\"\\n\\nSize of the validation data ==> \", len(validation_data))\n",
        "print(validation_data.head(5))\n",
        "\n",
        "print(type(validation_data))\n",
        "print(validation_data.head(10))\n",
        "\n",
        "validation_data['validation_label']= validation_data.label.replace({'real':0,'fake':1}) \n",
        "\n",
        "## Cleaning the data. Removing newlines, unnecessary symbols\n",
        "#validation_data['cleaned'] = validation_data['tweet'].apply(remove_url)\n",
        "validation_data['cleaned'] = validation_data['tweet'].apply(remove_punctuation_url)\n",
        "#data['cleaned'] = data['cleaned'].apply(remove_stopwords)\n",
        "print(validation_data.head(10))"
      ],
      "execution_count": 45,
      "outputs": [
        {
          "output_type": "stream",
          "name": "stdout",
          "text": [
            "\n",
            "\n",
            "Size of the validation data ==>  2140\n",
            "    id                                              tweet label\n",
            "0  1.0  Chinese converting to Islam after realising th...  fake\n",
            "1  2.0  11 out of 13 people (from the Diamond Princess...  fake\n",
            "2  3.0  COVID-19 Is Caused By A Bacterium, Not Virus A...  fake\n",
            "3  4.0  Mike Pence in RNC speech praises Donald Trump’...  fake\n",
            "4  5.0  6/10 Sky's @EdConwaySky explains the latest #C...  real\n",
            "<class 'pandas.core.frame.DataFrame'>\n",
            "     id                                              tweet label\n",
            "0   1.0  Chinese converting to Islam after realising th...  fake\n",
            "1   2.0  11 out of 13 people (from the Diamond Princess...  fake\n",
            "2   3.0  COVID-19 Is Caused By A Bacterium, Not Virus A...  fake\n",
            "3   4.0  Mike Pence in RNC speech praises Donald Trump’...  fake\n",
            "4   5.0  6/10 Sky's @EdConwaySky explains the latest #C...  real\n",
            "5   6.0  No one can leave managed isolation for any rea...  real\n",
            "6   7.0  #IndiaFightsCorona India has one of the lowest...  real\n",
            "7   8.0  RT @WHO: #COVID19 transmission occurs primaril...  real\n",
            "8   9.0  News and media outlet ABP Majha on the basis o...  fake\n",
            "9  10.0  ???Church services can???t resume until we???r...  fake\n",
            "     id                                              tweet label  \\\n",
            "0   1.0  Chinese converting to Islam after realising th...  fake   \n",
            "1   2.0  11 out of 13 people (from the Diamond Princess...  fake   \n",
            "2   3.0  COVID-19 Is Caused By A Bacterium, Not Virus A...  fake   \n",
            "3   4.0  Mike Pence in RNC speech praises Donald Trump’...  fake   \n",
            "4   5.0  6/10 Sky's @EdConwaySky explains the latest #C...  real   \n",
            "5   6.0  No one can leave managed isolation for any rea...  real   \n",
            "6   7.0  #IndiaFightsCorona India has one of the lowest...  real   \n",
            "7   8.0  RT @WHO: #COVID19 transmission occurs primaril...  real   \n",
            "8   9.0  News and media outlet ABP Majha on the basis o...  fake   \n",
            "9  10.0  ???Church services can???t resume until we???r...  fake   \n",
            "\n",
            "   validation_label                                            cleaned  \n",
            "0                 1  chinese converting to islam after realising th...  \n",
            "1                 1  11 out of 13 people from the diamond princess ...  \n",
            "2                 1  covid19 is caused by a bacterium not virus and...  \n",
            "3                 1  mike pence in rnc speech praises donald trumps...  \n",
            "4                 0  610 skys edconwaysky explains the latest covid...  \n",
            "5                 0  no one can leave managed isolation for any rea...  \n",
            "6                 0  indiafightscorona india has one of the lowest ...  \n",
            "7                 0  rt who covid19 transmission occurs primarily t...  \n",
            "8                 1  news and media outlet abp majha on the basis o...  \n",
            "9                 1  church services cant resume until were all vac...  \n"
          ]
        }
      ]
    },
    {
      "cell_type": "code",
      "metadata": {
        "id": "CQX86gUMb4ZH",
        "colab": {
          "base_uri": "https://localhost:8080/"
        },
        "outputId": "2ba8e9fc-4e5d-44e3-9728-5677f4e86512"
      },
      "source": [
        "## Converting into interger index based on tokenizer word index. It is important for predicting\n",
        "val_sequences = tokenizer.texts_to_sequences(validation_data.cleaned)\n",
        "print(val_sequences[0:10])\n",
        "val_data = keras.preprocessing.sequence.pad_sequences(val_sequences, value=0.0,\n",
        "                                                      padding='post', maxlen= padding_length)\n",
        "val_labels = validation_data['validation_label']\n",
        "\n",
        "print(val_data[:5], val_data.shape)\n",
        "print(val_labels[:5], val_labels.shape)"
      ],
      "execution_count": 46,
      "outputs": [
        {
          "output_type": "stream",
          "name": "stdout",
          "text": [
            "[[311, 11378, 3, 4650, 93, 13, 56, 921, 46, 555, 28, 11, 10993, 4, 1, 139], [501, 102, 2, 661, 24, 15, 1, 5493, 4274, 1749, 1409, 38, 119, 83, 302, 4, 26, 4, 1346, 58, 1189, 39, 3, 27, 84, 4, 1, 411, 35], [5, 8, 453, 28, 6, 2638, 30, 69, 7, 43, 27, 916, 18, 5446], [2309, 2331, 4, 8910, 4368, 13122, 254, 755, 5, 6520, 2258, 18, 973, 7, 2568, 102, 1, 2214, 57, 3856], [3838, 1122, 1, 165, 5, 79, 7, 131, 2752, 128, 25, 14, 1, 11, 79], [56, 63, 43, 1579, 194, 123, 9, 185, 1015, 427, 912, 6, 302, 87, 62, 61, 2031, 6, 87, 61, 43, 424, 27, 1867, 9, 6, 706, 2, 68, 3, 582, 86, 200, 200, 14, 370, 1, 4053, 5377, 14, 2577, 4632, 17, 32, 6227, 200, 200], [64, 52, 19, 63, 2, 1, 524, 5, 645, 1544, 18, 353, 47, 88, 72, 520, 101, 20, 6, 559, 2, 6669, 136, 123, 45, 405, 443, 262, 179, 516, 17, 1764, 499, 47, 1, 215, 191], [81, 38, 5, 372, 12572, 4779, 261, 2528, 53, 322, 224, 18, 174, 24, 261, 77, 6914, 7], [120, 7, 343, 6705, 14, 1, 1249, 2, 54, 9847, 2, 333, 1087, 3044, 41, 13, 6, 1646, 2162, 19, 32, 369, 3, 163, 1, 4183, 2933, 317, 136], [2609, 523, 670, 2260, 733, 58, 48, 2529, 74, 347, 358]]\n",
            "[[  311 11378     3  4650    93    13    56   921    46   555    28    11\n",
            "  10993     4     1   139     0     0     0     0     0     0     0     0\n",
            "      0     0     0     0     0     0     0     0     0     0     0     0\n",
            "      0     0     0     0     0     0     0     0     0     0     0     0\n",
            "      0     0     0     0     0     0     0     0     0     0     0     0\n",
            "      0     0     0     0     0     0     0     0     0     0     0     0\n",
            "      0     0     0     0     0     0     0     0     0     0     0     0\n",
            "      0     0     0     0     0     0     0     0     0     0     0     0\n",
            "      0     0     0     0]\n",
            " [  501   102     2   661    24    15     1  5493  4274  1749  1409    38\n",
            "    119    83   302     4    26     4  1346    58  1189    39     3    27\n",
            "     84     4     1   411    35     0     0     0     0     0     0     0\n",
            "      0     0     0     0     0     0     0     0     0     0     0     0\n",
            "      0     0     0     0     0     0     0     0     0     0     0     0\n",
            "      0     0     0     0     0     0     0     0     0     0     0     0\n",
            "      0     0     0     0     0     0     0     0     0     0     0     0\n",
            "      0     0     0     0     0     0     0     0     0     0     0     0\n",
            "      0     0     0     0]\n",
            " [    5     8   453    28     6  2638    30    69     7    43    27   916\n",
            "     18  5446     0     0     0     0     0     0     0     0     0     0\n",
            "      0     0     0     0     0     0     0     0     0     0     0     0\n",
            "      0     0     0     0     0     0     0     0     0     0     0     0\n",
            "      0     0     0     0     0     0     0     0     0     0     0     0\n",
            "      0     0     0     0     0     0     0     0     0     0     0     0\n",
            "      0     0     0     0     0     0     0     0     0     0     0     0\n",
            "      0     0     0     0     0     0     0     0     0     0     0     0\n",
            "      0     0     0     0]\n",
            " [ 2309  2331     4  8910  4368 13122   254   755     5  6520  2258    18\n",
            "    973     7  2568   102     1  2214    57  3856     0     0     0     0\n",
            "      0     0     0     0     0     0     0     0     0     0     0     0\n",
            "      0     0     0     0     0     0     0     0     0     0     0     0\n",
            "      0     0     0     0     0     0     0     0     0     0     0     0\n",
            "      0     0     0     0     0     0     0     0     0     0     0     0\n",
            "      0     0     0     0     0     0     0     0     0     0     0     0\n",
            "      0     0     0     0     0     0     0     0     0     0     0     0\n",
            "      0     0     0     0]\n",
            " [ 3838  1122     1   165     5    79     7   131  2752   128    25    14\n",
            "      1    11    79     0     0     0     0     0     0     0     0     0\n",
            "      0     0     0     0     0     0     0     0     0     0     0     0\n",
            "      0     0     0     0     0     0     0     0     0     0     0     0\n",
            "      0     0     0     0     0     0     0     0     0     0     0     0\n",
            "      0     0     0     0     0     0     0     0     0     0     0     0\n",
            "      0     0     0     0     0     0     0     0     0     0     0     0\n",
            "      0     0     0     0     0     0     0     0     0     0     0     0\n",
            "      0     0     0     0]] (2140, 100)\n",
            "0    1\n",
            "1    1\n",
            "2    1\n",
            "3    1\n",
            "4    0\n",
            "Name: validation_label, dtype: int64 (2140,)\n"
          ]
        }
      ]
    },
    {
      "cell_type": "code",
      "metadata": {
        "id": "mu4Cr1bIdDyI",
        "colab": {
          "base_uri": "https://localhost:8080/"
        },
        "outputId": "66fc10e3-6bd0-41f6-dc1a-3e8a7a815e1f"
      },
      "source": [
        "val_ls, val_acc = cnn_lstm_model.evaluate(val_data, val_labels)\n",
        "print(val_ls, val_acc)\n",
        "\n",
        "## To find class wise probability\n",
        "predicted_probability = cnn_lstm_model.predict(val_data)\n",
        "print(predicted_probability)\n",
        "\n",
        "# Find the predicted class for every input text\n",
        "predicted_classess = np.argmax(cnn_lstm_model.predict(val_data), axis=-1)\n",
        "print(predicted_classess)"
      ],
      "execution_count": 47,
      "outputs": [
        {
          "output_type": "stream",
          "name": "stdout",
          "text": [
            "67/67 [==============================] - 0s 7ms/step - loss: 0.2815 - accuracy: 0.9136\n",
            "0.2814595103263855 0.913551390171051\n",
            "67/67 [==============================] - 1s 5ms/step\n",
            "[[4.0922832e-04 9.9959081e-01]\n",
            " [9.9811578e-01 1.8842026e-03]\n",
            " [1.4683574e-03 9.9853158e-01]\n",
            " ...\n",
            " [6.8859890e-04 9.9931145e-01]\n",
            " [6.5557152e-01 3.4442851e-01]\n",
            " [9.9904972e-01 9.5023686e-04]]\n",
            "67/67 [==============================] - 0s 7ms/step\n",
            "[1 0 1 ... 1 0 0]\n"
          ]
        }
      ]
    },
    {
      "cell_type": "code",
      "metadata": {
        "id": "tcRchCRCdOSl",
        "colab": {
          "base_uri": "https://localhost:8080/",
          "height": 358
        },
        "outputId": "c234e449-d5e1-4044-ef4f-a8c89f0a40a7"
      },
      "source": [
        "predictions = np.argmax(cnn_lstm_model.predict(val_data), axis = -1)\n",
        "cm = confusion_matrix(val_labels, predictions)\n",
        "acc = round(accuracy_score(val_labels, predictions),4)*100 \n",
        "prec = round(precision_score(val_labels, predictions, average='weighted'),4)*100\n",
        "re = round(recall_score(val_labels, predictions, average='weighted'),4)*100\n",
        "f1 = round(f1_score(val_labels, predictions, average= 'weighted'),4)*100\n",
        "print(color.BOLD+'Confusion Matrix:\\n'+color.END,cm)\n",
        "print (color.BOLD+'Report : '+color.END)\n",
        "print (classification_report(val_labels, predictions) )\n",
        "print(color.BOLD+'Performance:\\n'+color.END)\n",
        "pd.DataFrame({'Accuracy':acc,'Precision':prec,'Recall':re,'F1 Score':f1},index = ['CNN+BiLSTM'])"
      ],
      "execution_count": 48,
      "outputs": [
        {
          "output_type": "stream",
          "name": "stdout",
          "text": [
            "67/67 [==============================] - 1s 9ms/step\n",
            "\u001b[1mConfusion Matrix:\n",
            "\u001b[0m [[1031   89]\n",
            " [  96  924]]\n",
            "\u001b[1mReport : \u001b[0m\n",
            "              precision    recall  f1-score   support\n",
            "\n",
            "           0       0.91      0.92      0.92      1120\n",
            "           1       0.91      0.91      0.91      1020\n",
            "\n",
            "    accuracy                           0.91      2140\n",
            "   macro avg       0.91      0.91      0.91      2140\n",
            "weighted avg       0.91      0.91      0.91      2140\n",
            "\n",
            "\u001b[1mPerformance:\n",
            "\u001b[0m\n"
          ]
        },
        {
          "output_type": "execute_result",
          "data": {
            "text/plain": [
              "            Accuracy  Precision  Recall  F1 Score\n",
              "CNN+BiLSTM     91.36      91.35   91.36     91.35"
            ],
            "text/html": [
              "\n",
              "  <div id=\"df-5db8e684-0333-4ad3-b355-65ece02bcd1a\">\n",
              "    <div class=\"colab-df-container\">\n",
              "      <div>\n",
              "<style scoped>\n",
              "    .dataframe tbody tr th:only-of-type {\n",
              "        vertical-align: middle;\n",
              "    }\n",
              "\n",
              "    .dataframe tbody tr th {\n",
              "        vertical-align: top;\n",
              "    }\n",
              "\n",
              "    .dataframe thead th {\n",
              "        text-align: right;\n",
              "    }\n",
              "</style>\n",
              "<table border=\"1\" class=\"dataframe\">\n",
              "  <thead>\n",
              "    <tr style=\"text-align: right;\">\n",
              "      <th></th>\n",
              "      <th>Accuracy</th>\n",
              "      <th>Precision</th>\n",
              "      <th>Recall</th>\n",
              "      <th>F1 Score</th>\n",
              "    </tr>\n",
              "  </thead>\n",
              "  <tbody>\n",
              "    <tr>\n",
              "      <th>CNN+BiLSTM</th>\n",
              "      <td>91.36</td>\n",
              "      <td>91.35</td>\n",
              "      <td>91.36</td>\n",
              "      <td>91.35</td>\n",
              "    </tr>\n",
              "  </tbody>\n",
              "</table>\n",
              "</div>\n",
              "      <button class=\"colab-df-convert\" onclick=\"convertToInteractive('df-5db8e684-0333-4ad3-b355-65ece02bcd1a')\"\n",
              "              title=\"Convert this dataframe to an interactive table.\"\n",
              "              style=\"display:none;\">\n",
              "        \n",
              "  <svg xmlns=\"http://www.w3.org/2000/svg\" height=\"24px\"viewBox=\"0 0 24 24\"\n",
              "       width=\"24px\">\n",
              "    <path d=\"M0 0h24v24H0V0z\" fill=\"none\"/>\n",
              "    <path d=\"M18.56 5.44l.94 2.06.94-2.06 2.06-.94-2.06-.94-.94-2.06-.94 2.06-2.06.94zm-11 1L8.5 8.5l.94-2.06 2.06-.94-2.06-.94L8.5 2.5l-.94 2.06-2.06.94zm10 10l.94 2.06.94-2.06 2.06-.94-2.06-.94-.94-2.06-.94 2.06-2.06.94z\"/><path d=\"M17.41 7.96l-1.37-1.37c-.4-.4-.92-.59-1.43-.59-.52 0-1.04.2-1.43.59L10.3 9.45l-7.72 7.72c-.78.78-.78 2.05 0 2.83L4 21.41c.39.39.9.59 1.41.59.51 0 1.02-.2 1.41-.59l7.78-7.78 2.81-2.81c.8-.78.8-2.07 0-2.86zM5.41 20L4 18.59l7.72-7.72 1.47 1.35L5.41 20z\"/>\n",
              "  </svg>\n",
              "      </button>\n",
              "      \n",
              "  <style>\n",
              "    .colab-df-container {\n",
              "      display:flex;\n",
              "      flex-wrap:wrap;\n",
              "      gap: 12px;\n",
              "    }\n",
              "\n",
              "    .colab-df-convert {\n",
              "      background-color: #E8F0FE;\n",
              "      border: none;\n",
              "      border-radius: 50%;\n",
              "      cursor: pointer;\n",
              "      display: none;\n",
              "      fill: #1967D2;\n",
              "      height: 32px;\n",
              "      padding: 0 0 0 0;\n",
              "      width: 32px;\n",
              "    }\n",
              "\n",
              "    .colab-df-convert:hover {\n",
              "      background-color: #E2EBFA;\n",
              "      box-shadow: 0px 1px 2px rgba(60, 64, 67, 0.3), 0px 1px 3px 1px rgba(60, 64, 67, 0.15);\n",
              "      fill: #174EA6;\n",
              "    }\n",
              "\n",
              "    [theme=dark] .colab-df-convert {\n",
              "      background-color: #3B4455;\n",
              "      fill: #D2E3FC;\n",
              "    }\n",
              "\n",
              "    [theme=dark] .colab-df-convert:hover {\n",
              "      background-color: #434B5C;\n",
              "      box-shadow: 0px 1px 3px 1px rgba(0, 0, 0, 0.15);\n",
              "      filter: drop-shadow(0px 1px 2px rgba(0, 0, 0, 0.3));\n",
              "      fill: #FFFFFF;\n",
              "    }\n",
              "  </style>\n",
              "\n",
              "      <script>\n",
              "        const buttonEl =\n",
              "          document.querySelector('#df-5db8e684-0333-4ad3-b355-65ece02bcd1a button.colab-df-convert');\n",
              "        buttonEl.style.display =\n",
              "          google.colab.kernel.accessAllowed ? 'block' : 'none';\n",
              "\n",
              "        async function convertToInteractive(key) {\n",
              "          const element = document.querySelector('#df-5db8e684-0333-4ad3-b355-65ece02bcd1a');\n",
              "          const dataTable =\n",
              "            await google.colab.kernel.invokeFunction('convertToInteractive',\n",
              "                                                     [key], {});\n",
              "          if (!dataTable) return;\n",
              "\n",
              "          const docLinkHtml = 'Like what you see? Visit the ' +\n",
              "            '<a target=\"_blank\" href=https://colab.research.google.com/notebooks/data_table.ipynb>data table notebook</a>'\n",
              "            + ' to learn more about interactive tables.';\n",
              "          element.innerHTML = '';\n",
              "          dataTable['output_type'] = 'display_data';\n",
              "          await google.colab.output.renderOutput(dataTable, element);\n",
              "          const docLink = document.createElement('div');\n",
              "          docLink.innerHTML = docLinkHtml;\n",
              "          element.appendChild(docLink);\n",
              "        }\n",
              "      </script>\n",
              "    </div>\n",
              "  </div>\n",
              "  "
            ]
          },
          "metadata": {},
          "execution_count": 48
        }
      ]
    },
    {
      "cell_type": "code",
      "metadata": {
        "id": "uAEg7XlYdf8O",
        "colab": {
          "base_uri": "https://localhost:8080/"
        },
        "outputId": "77abf575-6742-4b60-fa6b-23453ab4bf00"
      },
      "source": [
        "# Find out some misclassified text. Check which class overlaps with other classes\n",
        "for i in range(50):\n",
        "  actual = val_labels[i]\n",
        "  prediction = predicted_classess[i]\n",
        "  if(actual!=prediction):\n",
        "      print(\"Actual Data: {}\\nPredicted Label: {}\\nActual Label: {}\\n\".format(validation_data['tweet'][i], class_names[prediction], class_names[actual]))"
      ],
      "execution_count": 49,
      "outputs": [
        {
          "output_type": "stream",
          "name": "stdout",
          "text": [
            "Actual Data: 11 out of 13 people (from the Diamond Princess Cruise ship) who had intially tested negative in tests in Japan were later confirmed to be positive in the United States.\n",
            "Predicted Label: real\n",
            "Actual Label: fake\n",
            "\n",
            "Actual Data: You can still fly the friendly skies without fear of COVID if airlines stay serious about safety. https://t.co/H8mGjwDl7G #coronavirus\n",
            "Predicted Label: fake\n",
            "Actual Label: real\n",
            "\n",
            "Actual Data: Tomorrow April 6 we will pass 10000 coronavirus deaths. We passed 5000 on April 2. We passed 1000 on March 26. We passed 100 on March 18.\n",
            "Predicted Label: fake\n",
            "Actual Label: real\n",
            "\n",
            "Actual Data: Gov. Andrew Cuomo “was simply saying if we can share 20 percent of your excess your non-used ventilators to help people in other parts of the state on a voluntary basis that would be great. Of course there was a reaction to that which was not positive.\"\n",
            "Predicted Label: real\n",
            "Actual Label: fake\n",
            "\n",
            "Actual Data: EMA endorses the use of dexamethasone for COVID-19. https://t.co/RKPH74Hz3W\n",
            "Predicted Label: fake\n",
            "Actual Label: real\n",
            "\n",
            "Actual Data: Public Health Professionals: Need #COVID19 resources for sharing? Check out CDC’s One-Stop Shop for COVID-19 Resources that range from youth sports to travel: https://t.co/EpQe5KaDvq. https://t.co/CLv3Qj3ZeJ\n",
            "Predicted Label: fake\n",
            "Actual Label: real\n",
            "\n"
          ]
        }
      ]
    },
    {
      "cell_type": "code",
      "metadata": {
        "id": "1OMIhlmadm4H",
        "colab": {
          "base_uri": "https://localhost:8080/",
          "height": 693
        },
        "outputId": "83a6cdc3-d731-43f1-ab16-1b9459a70a91"
      },
      "source": [
        "def con_mat(model):\n",
        "  test_prediction = np.argmax(model.predict(val_data), axis = -1)\n",
        "  cm = confusion_matrix(val_labels, test_prediction)\n",
        "  print(cm)\n",
        "\n",
        "  import seaborn as sns\n",
        "  #sns.set()\n",
        "  plt.figure(figsize =(12, 10))\n",
        "  ax = plt.subplot()\n",
        "  sns.heatmap(cm, annot=True,fmt=\"d\",cmap='Blues', ax = ax) #annot=True to annotate cells\n",
        "  # labels, title and ticks\n",
        "  ax.set_xlabel('Predicted labels')\n",
        "  ax.set_ylabel('True labels') \n",
        "  ax.set_title('Confusion Matrix') \n",
        "  ax.xaxis.set_ticklabels(class_names, rotation=45); ax.yaxis.set_ticklabels(class_names, rotation=45);\n",
        "  ax.xaxis.tick_top()\n",
        "\n",
        "con_mat(cnn_lstm_model)"
      ],
      "execution_count": 50,
      "outputs": [
        {
          "output_type": "stream",
          "name": "stdout",
          "text": [
            "67/67 [==============================] - 0s 5ms/step\n",
            "[[1031   89]\n",
            " [  96  924]]\n"
          ]
        },
        {
          "output_type": "display_data",
          "data": {
            "text/plain": [
              "<Figure size 864x720 with 2 Axes>"
            ],
            "image/png": "[encoded data removed]"
          },
          "metadata": {}
        }
      ]
    },
    {
      "cell_type": "code",
      "metadata": {
        "id": "KDlNtveEdxbU"
      },
      "source": [
        "with open('answer.txt', 'w') as f:\n",
        "  f.write(\"id,label\\n\")\n",
        "  for i in range(len(predicted_classess)):\n",
        "    id = validation_data['id'][i]\n",
        "    v = class_names[predicted_classess[i]]\n",
        "    f.write(\"%d,%s\\n\"%(id, v))"
      ],
      "execution_count": 53,
      "outputs": []
    },
    {
      "cell_type": "markdown",
      "metadata": {
        "id": "VP0tF5WdOauT"
      },
      "source": [
        "#ML Methods"
      ]
    },
    {
      "cell_type": "code",
      "metadata": {
        "id": "QalUIaswOacC",
        "colab": {
          "base_uri": "https://localhost:8080/"
        },
        "outputId": "1c3f9bed-85ed-45cf-d890-4a32edd56a09"
      },
      "source": [
        "tf_idf = TfidfVectorizer(ngram_range=(1,3), min_df=5, tokenizer=lambda x: x.split(), max_features=20000, use_idf = True)\n",
        "corpus = tf_idf.fit_transform(train_data.cleaned)\n",
        "labels = train_data.training_label\n",
        "print(corpus.shape)"
      ],
      "execution_count": 54,
      "outputs": [
        {
          "output_type": "stream",
          "name": "stdout",
          "text": [
            "(6420, 9448)\n"
          ]
        }
      ]
    },
    {
      "cell_type": "code",
      "metadata": {
        "id": "M5LxdKj9kaAN",
        "colab": {
          "base_uri": "https://localhost:8080/"
        },
        "outputId": "f36fba84-ed36-4576-bf42-c43ca14b8c18"
      },
      "source": [
        "X_train, X_test, y_train, y_test = train_test_split(corpus,labels,train_size = 0.9, test_size = 0.1,random_state =0)\n",
        "print(X_train.shape, X_test.shape)"
      ],
      "execution_count": 55,
      "outputs": [
        {
          "output_type": "stream",
          "name": "stdout",
          "text": [
            "(5778, 9448) (642, 9448)\n"
          ]
        }
      ]
    },
    {
      "cell_type": "code",
      "metadata": {
        "id": "srKDttx7OtDS",
        "colab": {
          "base_uri": "https://localhost:8080/"
        },
        "outputId": "9be8e871-08fb-4692-f99d-19a2f4760444"
      },
      "source": [
        "%%time \n",
        "                  #=================================\n",
        "                  #########  Define models  #########\n",
        "                  #==================================\n",
        "lr_model = LogisticRegression(random_state = 123,C =0.08)\n",
        "dt_model = DecisionTreeClassifier(criterion = 'entropy', random_state = 0)\n",
        "rf_model = RandomForestClassifier(n_estimators=10, criterion ='entropy', random_state = 0)\n",
        "mnb_model = MultinomialNB(alpha=0.05)\n",
        "model_names = ['Logistic Regression','Decision Tree','Random Forest','Naive Bayes']\n",
        "ml_models = [lr_model,dt_model,rf_model,mnb_model]\n",
        "\n",
        "               #============================================\n",
        "               ####### Model Fit Function ############\n",
        "               #=============================================\n",
        "def model_train(model, X_train, y_train):\n",
        "    model.fit(X_train,y_train)\n",
        "    return model\n",
        "\n",
        "trained_ml_models = []\n",
        "for i in ml_models:\n",
        "    tt = model_train(i,X_train, y_train)\n",
        "    trained_ml_models.append(tt)"
      ],
      "execution_count": 56,
      "outputs": [
        {
          "output_type": "stream",
          "name": "stdout",
          "text": [
            "CPU times: user 1.4 s, sys: 3.65 ms, total: 1.4 s\n",
            "Wall time: 1.44 s\n"
          ]
        }
      ]
    },
    {
      "cell_type": "code",
      "metadata": {
        "id": "AT2fhMqZO1K6",
        "colab": {
          "base_uri": "https://localhost:8080/"
        },
        "outputId": "1aab601a-0cde-4022-eec9-6d4c7d7b7922"
      },
      "source": [
        "               #============================================\n",
        "               ####### Model Evaluation Function ############\n",
        "              #=============================================\n",
        "\n",
        "acc_list = []\n",
        "pr_list = []\n",
        "re_list = []\n",
        "f1_list = []\n",
        "\n",
        "def model_accuracy(model,X_test,y_test, model_name):\n",
        "  print(\"Classifier: \", model_name)\n",
        "  pred_y = model.predict(X_test)\n",
        "  print(color.BOLD+'Confusion Matrix:\\n'+color.END,confusion_matrix(y_test, pred_y))\n",
        "  print (color.BOLD+'Report : '+color.END)\n",
        "  print (classification_report(y_test, pred_y))\n",
        "  acc_list.append((round(accuracy_score(y_test, pred_y),4)*100))\n",
        "  pr_list.append((round(precision_score(y_test, pred_y, average='weighted'),4)*100)) \n",
        "  re_list.append((round(recall_score(y_test, pred_y, average='weighted'),4)*100))\n",
        "  f1_list.append((round(f1_score(y_test, pred_y, average='weighted'),4)*100))\n",
        "\n",
        "for i in range(len(trained_ml_models)):\n",
        "    md = trained_ml_models[i]\n",
        "    name = model_names[i]\n",
        "    model_accuracy(md, X_test, y_test, name)\n"
      ],
      "execution_count": 57,
      "outputs": [
        {
          "output_type": "stream",
          "name": "stdout",
          "text": [
            "Classifier:  Logistic Regression\n",
            "\u001b[1mConfusion Matrix:\n",
            "\u001b[0m [[288  41]\n",
            " [ 49 264]]\n",
            "\u001b[1mReport : \u001b[0m\n",
            "              precision    recall  f1-score   support\n",
            "\n",
            "           0       0.85      0.88      0.86       329\n",
            "           1       0.87      0.84      0.85       313\n",
            "\n",
            "    accuracy                           0.86       642\n",
            "   macro avg       0.86      0.86      0.86       642\n",
            "weighted avg       0.86      0.86      0.86       642\n",
            "\n",
            "Classifier:  Decision Tree\n",
            "\u001b[1mConfusion Matrix:\n",
            "\u001b[0m [[267  62]\n",
            " [ 53 260]]\n",
            "\u001b[1mReport : \u001b[0m\n",
            "              precision    recall  f1-score   support\n",
            "\n",
            "           0       0.83      0.81      0.82       329\n",
            "           1       0.81      0.83      0.82       313\n",
            "\n",
            "    accuracy                           0.82       642\n",
            "   macro avg       0.82      0.82      0.82       642\n",
            "weighted avg       0.82      0.82      0.82       642\n",
            "\n",
            "Classifier:  Random Forest\n",
            "\u001b[1mConfusion Matrix:\n",
            "\u001b[0m [[275  54]\n",
            " [ 44 269]]\n",
            "\u001b[1mReport : \u001b[0m\n",
            "              precision    recall  f1-score   support\n",
            "\n",
            "           0       0.86      0.84      0.85       329\n",
            "           1       0.83      0.86      0.85       313\n",
            "\n",
            "    accuracy                           0.85       642\n",
            "   macro avg       0.85      0.85      0.85       642\n",
            "weighted avg       0.85      0.85      0.85       642\n",
            "\n",
            "Classifier:  Naive Bayes\n",
            "\u001b[1mConfusion Matrix:\n",
            "\u001b[0m [[281  48]\n",
            " [ 25 288]]\n",
            "\u001b[1mReport : \u001b[0m\n",
            "              precision    recall  f1-score   support\n",
            "\n",
            "           0       0.92      0.85      0.89       329\n",
            "           1       0.86      0.92      0.89       313\n",
            "\n",
            "    accuracy                           0.89       642\n",
            "   macro avg       0.89      0.89      0.89       642\n",
            "weighted avg       0.89      0.89      0.89       642\n",
            "\n"
          ]
        }
      ]
    },
    {
      "cell_type": "code",
      "metadata": {
        "id": "K-7wt9ubO64O",
        "colab": {
          "base_uri": "https://localhost:8080/",
          "height": 174
        },
        "outputId": "9b8abe0b-570e-4404-d398-e33b512ab811"
      },
      "source": [
        "performance_matrix = pd.DataFrame({'Accuracy':acc_list,'Precision':pr_list,\n",
        "                                   'Recall':re_list,'F1 Score':f1_list},\n",
        "                                  index =model_names)\n",
        "performance_matrix"
      ],
      "execution_count": 58,
      "outputs": [
        {
          "output_type": "execute_result",
          "data": {
            "text/plain": [
              "                     Accuracy  Precision  Recall  F1 Score\n",
              "Logistic Regression     85.98      85.99   85.98     85.97\n",
              "Decision Tree           82.09      82.12   82.09     82.09\n",
              "Random Forest           84.74      84.78   84.74     84.74\n",
              "Naive Bayes             88.63      88.85   88.63     88.62"
            ],
            "text/html": [
              "\n",
              "  <div id=\"df-fed16691-da2c-401c-b148-7c59f5ea7f99\">\n",
              "    <div class=\"colab-df-container\">\n",
              "      <div>\n",
              "<style scoped>\n",
              "    .dataframe tbody tr th:only-of-type {\n",
              "        vertical-align: middle;\n",
              "    }\n",
              "\n",
              "    .dataframe tbody tr th {\n",
              "        vertical-align: top;\n",
              "    }\n",
              "\n",
              "    .dataframe thead th {\n",
              "        text-align: right;\n",
              "    }\n",
              "</style>\n",
              "<table border=\"1\" class=\"dataframe\">\n",
              "  <thead>\n",
              "    <tr style=\"text-align: right;\">\n",
              "      <th></th>\n",
              "      <th>Accuracy</th>\n",
              "      <th>Precision</th>\n",
              "      <th>Recall</th>\n",
              "      <th>F1 Score</th>\n",
              "    </tr>\n",
              "  </thead>\n",
              "  <tbody>\n",
              "    <tr>\n",
              "      <th>Logistic Regression</th>\n",
              "      <td>85.98</td>\n",
              "      <td>85.99</td>\n",
              "      <td>85.98</td>\n",
              "      <td>85.97</td>\n",
              "    </tr>\n",
              "    <tr>\n",
              "      <th>Decision Tree</th>\n",
              "      <td>82.09</td>\n",
              "      <td>82.12</td>\n",
              "      <td>82.09</td>\n",
              "      <td>82.09</td>\n",
              "    </tr>\n",
              "    <tr>\n",
              "      <th>Random Forest</th>\n",
              "      <td>84.74</td>\n",
              "      <td>84.78</td>\n",
              "      <td>84.74</td>\n",
              "      <td>84.74</td>\n",
              "    </tr>\n",
              "    <tr>\n",
              "      <th>Naive Bayes</th>\n",
              "      <td>88.63</td>\n",
              "      <td>88.85</td>\n",
              "      <td>88.63</td>\n",
              "      <td>88.62</td>\n",
              "    </tr>\n",
              "  </tbody>\n",
              "</table>\n",
              "</div>\n",
              "      <button class=\"colab-df-convert\" onclick=\"convertToInteractive('df-fed16691-da2c-401c-b148-7c59f5ea7f99')\"\n",
              "              title=\"Convert this dataframe to an interactive table.\"\n",
              "              style=\"display:none;\">\n",
              "        \n",
              "  <svg xmlns=\"http://www.w3.org/2000/svg\" height=\"24px\"viewBox=\"0 0 24 24\"\n",
              "       width=\"24px\">\n",
              "    <path d=\"M0 0h24v24H0V0z\" fill=\"none\"/>\n",
              "    <path d=\"M18.56 5.44l.94 2.06.94-2.06 2.06-.94-2.06-.94-.94-2.06-.94 2.06-2.06.94zm-11 1L8.5 8.5l.94-2.06 2.06-.94-2.06-.94L8.5 2.5l-.94 2.06-2.06.94zm10 10l.94 2.06.94-2.06 2.06-.94-2.06-.94-.94-2.06-.94 2.06-2.06.94z\"/><path d=\"M17.41 7.96l-1.37-1.37c-.4-.4-.92-.59-1.43-.59-.52 0-1.04.2-1.43.59L10.3 9.45l-7.72 7.72c-.78.78-.78 2.05 0 2.83L4 21.41c.39.39.9.59 1.41.59.51 0 1.02-.2 1.41-.59l7.78-7.78 2.81-2.81c.8-.78.8-2.07 0-2.86zM5.41 20L4 18.59l7.72-7.72 1.47 1.35L5.41 20z\"/>\n",
              "  </svg>\n",
              "      </button>\n",
              "      \n",
              "  <style>\n",
              "    .colab-df-container {\n",
              "      display:flex;\n",
              "      flex-wrap:wrap;\n",
              "      gap: 12px;\n",
              "    }\n",
              "\n",
              "    .colab-df-convert {\n",
              "      background-color: #E8F0FE;\n",
              "      border: none;\n",
              "      border-radius: 50%;\n",
              "      cursor: pointer;\n",
              "      display: none;\n",
              "      fill: #1967D2;\n",
              "      height: 32px;\n",
              "      padding: 0 0 0 0;\n",
              "      width: 32px;\n",
              "    }\n",
              "\n",
              "    .colab-df-convert:hover {\n",
              "      background-color: #E2EBFA;\n",
              "      box-shadow: 0px 1px 2px rgba(60, 64, 67, 0.3), 0px 1px 3px 1px rgba(60, 64, 67, 0.15);\n",
              "      fill: #174EA6;\n",
              "    }\n",
              "\n",
              "    [theme=dark] .colab-df-convert {\n",
              "      background-color: #3B4455;\n",
              "      fill: #D2E3FC;\n",
              "    }\n",
              "\n",
              "    [theme=dark] .colab-df-convert:hover {\n",
              "      background-color: #434B5C;\n",
              "      box-shadow: 0px 1px 3px 1px rgba(0, 0, 0, 0.15);\n",
              "      filter: drop-shadow(0px 1px 2px rgba(0, 0, 0, 0.3));\n",
              "      fill: #FFFFFF;\n",
              "    }\n",
              "  </style>\n",
              "\n",
              "      <script>\n",
              "        const buttonEl =\n",
              "          document.querySelector('#df-fed16691-da2c-401c-b148-7c59f5ea7f99 button.colab-df-convert');\n",
              "        buttonEl.style.display =\n",
              "          google.colab.kernel.accessAllowed ? 'block' : 'none';\n",
              "\n",
              "        async function convertToInteractive(key) {\n",
              "          const element = document.querySelector('#df-fed16691-da2c-401c-b148-7c59f5ea7f99');\n",
              "          const dataTable =\n",
              "            await google.colab.kernel.invokeFunction('convertToInteractive',\n",
              "                                                     [key], {});\n",
              "          if (!dataTable) return;\n",
              "\n",
              "          const docLinkHtml = 'Like what you see? Visit the ' +\n",
              "            '<a target=\"_blank\" href=https://colab.research.google.com/notebooks/data_table.ipynb>data table notebook</a>'\n",
              "            + ' to learn more about interactive tables.';\n",
              "          element.innerHTML = '';\n",
              "          dataTable['output_type'] = 'display_data';\n",
              "          await google.colab.output.renderOutput(dataTable, element);\n",
              "          const docLink = document.createElement('div');\n",
              "          docLink.innerHTML = docLinkHtml;\n",
              "          element.appendChild(docLink);\n",
              "        }\n",
              "      </script>\n",
              "    </div>\n",
              "  </div>\n",
              "  "
            ]
          },
          "metadata": {},
          "execution_count": 58
        }
      ]
    },
    {
      "cell_type": "code",
      "metadata": {
        "id": "2-vQuaTJPED6"
      },
      "source": [],
      "execution_count": null,
      "outputs": []
    }
  ]
}